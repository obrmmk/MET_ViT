{
  "cells": [
    {
      "cell_type": "markdown",
      "metadata": {
        "id": "vIcYHpOk-Mj0"
      },
      "source": [
        "2021/06/15"
      ]
    },
    {
      "cell_type": "markdown",
      "metadata": {
        "id": "vLGfkcj7-OLv"
      },
      "source": [
        "#Vision Transformer による絵画の作者予測 \n",
        "\n",
        "収蔵品データセットに作品数が20以上含まれる画家を対象として行う"
      ]
    },
    {
      "cell_type": "markdown",
      "source": [
        "参考：\n",
        "\n",
        "* [google-research\n",
        "/\n",
        "vision_transformer](https://github.com/google-research/vision_transformer)\n",
        "* [TensorFlow Core / tf.dataを使って画像をロードする](https://www.tensorflow.org/tutorials/load_data/images?hl=ja)\n",
        "* [google colabでVision TransformerのFine Tuningをやってみた - Qiita](https://qiita.com/kanataken/items/dc579fa0f53b7f84ef25)"
      ],
      "metadata": {
        "id": "m8z1KZJVec3y"
      }
    },
    {
      "cell_type": "code",
      "execution_count": null,
      "metadata": {
        "id": "DNkHLrWx-Ic2"
      },
      "outputs": [],
      "source": [
        "import pandas as pd\n",
        "import numpy as np\n",
        "import numpy.random as random\n",
        "from pandas import Series, DataFrame"
      ]
    },
    {
      "cell_type": "code",
      "execution_count": null,
      "metadata": {
        "colab": {
          "base_uri": "https://localhost:8080/"
        },
        "id": "t8PeAc47-Zsg",
        "outputId": "34c61923-d798-4cc5-d168-6ab3aecbd32a"
      },
      "outputs": [
        {
          "name": "stdout",
          "output_type": "stream",
          "text": [
            "Cloning into 'ViT_MET_datasets'...\n",
            "remote: Enumerating objects: 19, done.\u001b[K\n",
            "remote: Counting objects: 100% (19/19), done.\u001b[K\n",
            "remote: Compressing objects: 100% (11/11), done.\u001b[K\n",
            "remote: Total 19 (delta 6), reused 19 (delta 6), pack-reused 0\u001b[K\n",
            "Unpacking objects: 100% (19/19), done.\n"
          ]
        }
      ],
      "source": [
        "!git clone https://github.com/obrmmk/ViT_MET_datasets.git\n",
        "\n",
        "train_data=pd.read_csv('./ViT_MET_datasets/painting/twe/painting_twe_train.csv')\n",
        "test_data=pd.read_csv('./ViT_MET_datasets/painting/twe/painting_twe_test.csv')"
      ]
    },
    {
      "cell_type": "code",
      "execution_count": null,
      "metadata": {
        "colab": {
          "background_save": true,
          "base_uri": "https://localhost:8080/"
        },
        "id": "wJ-XFoSR-b8S",
        "outputId": "ed5a15d1-f8d3-4a1c-be5c-e300bbfb87b6"
      },
      "outputs": [
        {
          "name": "stdout",
          "output_type": "stream",
          "text": [
            "Cloning into 'vision_transformer'...\n",
            "remote: Enumerating objects: 35, done.\u001b[K\n",
            "remote: Counting objects: 100% (35/35), done.\u001b[K\n",
            "remote: Compressing objects: 100% (33/33), done.\u001b[K\n",
            "remote: Total 35 (delta 5), reused 14 (delta 0), pack-reused 0\u001b[K\n",
            "Unpacking objects: 100% (35/35), done.\n",
            "Already up to date.\n",
            "\u001b[K     |████████████████████████████████| 61kB 8.1MB/s \n",
            "\u001b[K     |████████████████████████████████| 81kB 12.6MB/s \n",
            "\u001b[K     |████████████████████████████████| 184kB 42.8MB/s \n",
            "\u001b[K     |████████████████████████████████| 92kB 13.0MB/s \n",
            "\u001b[K     |████████████████████████████████| 168.3MB 72kB/s \n",
            "\u001b[?25h"
          ]
        }
      ],
      "source": [
        "![ -d vision_transformer ] || git clone --depth=1 https://github.com/google-research/vision_transformer\n",
        "!cd vision_transformer && git pull\n",
        "!pip install -qr vision_transformer/vit_jax/requirements.txt"
      ]
    },
    {
      "cell_type": "code",
      "execution_count": null,
      "metadata": {
        "id": "iHb6CgNS-ipM"
      },
      "outputs": [],
      "source": [
        "import flax\n",
        "import jax\n",
        "from matplotlib import pyplot as plt\n",
        "import numpy as np\n",
        "import tqdm\n",
        "import sys\n",
        "if './vision_transformer' not in sys.path:\n",
        "  sys.path.append('./vision_transformer')\n",
        "from vit_jax import checkpoint\n",
        "from vit_jax import hyper\n",
        "from vit_jax import input_pipeline\n",
        "from vit_jax import logging\n",
        "from vit_jax import models\n",
        "from vit_jax import momentum_clip\n",
        "from vit_jax import train\n",
        "import pathlib\n",
        "import tensorflow as tf\n",
        "import csv\n",
        "import pandas as pd\n",
        "\n",
        "logger = logging.setup_logger('./logs')"
      ]
    },
    {
      "cell_type": "code",
      "execution_count": null,
      "metadata": {
        "colab": {
          "base_uri": "https://localhost:8080/"
        },
        "id": "NxycvHoK-krU",
        "outputId": "eb0875d4-e7d4-47f1-f1e1-2ab9d37269aa"
      },
      "outputs": [
        {
          "name": "stdout",
          "output_type": "stream",
          "text": [
            "Copying gs://vit_models/imagenet21k/ViT-B_16.npz...\n",
            "/ [1 files][393.7 MiB/393.7 MiB]                                                \n",
            "Operation completed over 1 objects/393.7 MiB.                                    \n"
          ]
        }
      ],
      "source": [
        "model = 'ViT-B_16'\n",
        "![ -e \"$model\".npz ] || gsutil cp gs://vit_models/imagenet21k/\"$model\".npz ."
      ]
    },
    {
      "cell_type": "code",
      "execution_count": null,
      "metadata": {
        "id": "SijajDl1-mni"
      },
      "outputs": [],
      "source": [
        "import tensorflow as tf\n",
        "from tensorflow import keras\n",
        "\n",
        "AUTOTUNE = tf.data.experimental.AUTOTUNE\n",
        "label_names = sorted(list(set([item for item in train_data['Artist Display Name']])))\n",
        "label_to_index_pre = dict((index,name) for index,name in enumerate(label_names))\n",
        "df = pd.DataFrame.from_dict(label_to_index_pre, orient='index')\n",
        "df = df.reset_index()\n",
        "df = df.set_axis(['label', 'Artist Display Name'], axis=1)\n",
        "all_image_labels=[]\n",
        "for i in range(len(train_data)):\n",
        "  all_image_labels.append(int(df[df['Artist Display Name'] == train_data.loc[i]['Artist Display Name']]['label']))\n",
        "all_image_labels_i = [int(s) for s in all_image_labels]\n",
        "n_labels = len(np.unique(all_image_labels_i))\n",
        "\n",
        "count=0\n",
        "def create_file(url):\n",
        "  global count\n",
        "  count+=1\n",
        "  image = tf.keras.utils.get_file(str(count)+'.jpg', origin=url)\n",
        "  return image\n",
        "\n",
        "all_image_paths = list(train_data['primaryImage'])\n",
        "image_count = len(all_image_paths)"
      ]
    },
    {
      "cell_type": "code",
      "execution_count": null,
      "metadata": {
        "colab": {
          "base_uri": "https://localhost:8080/",
          "height": 1000,
          "referenced_widgets": [
            "bd10455f357d4c48b90ea71502537961",
            "fb58ce8ea8134308b5ff8b3b827ede5e",
            "5a6b1a589b964cb883eaaf954b04b4bf",
            "cd7042472683474fba072f780b3b2a93",
            "5040375e41c8410cb3d7a059b3396ff4",
            "4e9dc7086b5345628fe969d26dc50ab2",
            "72ede2d85640444f9cf17847b12d8b38",
            "9fe4740609b746f5a2663df2b5087797"
          ]
        },
        "id": "GFpb2YvcIaUR",
        "outputId": "bd92710c-ad3d-41b3-991e-796fcf0a6dcc"
      },
      "outputs": [
        {
          "name": "stdout",
          "output_type": "stream",
          "text": [
            "Requirement already satisfied: tqdm in /usr/local/lib/python3.7/dist-packages (4.41.1)\n"
          ]
        },
        {
          "data": {
            "application/vnd.jupyter.widget-view+json": {
              "model_id": "bd10455f357d4c48b90ea71502537961",
              "version_major": 2,
              "version_minor": 0
            },
            "text/plain": [
              "HBox(children=(FloatProgress(value=0.0, max=175.0), HTML(value='')))"
            ]
          },
          "metadata": {
            "tags": []
          },
          "output_type": "display_data"
        },
        {
          "name": "stdout",
          "output_type": "stream",
          "text": [
            "Downloading data from https://images.metmuseum.org/CRDImages/ep/original/DP-17680-001.jpg\n",
            "2572288/2572124 [==============================] - 0s 0us/step\n",
            "Downloading data from https://images.metmuseum.org/CRDImages/ad/original/25534.jpg\n",
            "630784/622756 [==============================] - 0s 0us/step\n",
            "Downloading data from https://images.metmuseum.org/CRDImages/ep/original/DP120785.jpg\n",
            "2260992/2254684 [==============================] - 0s 0us/step\n",
            "Downloading data from https://images.metmuseum.org/CRDImages/ep/original/DP302935.jpg\n",
            "2424832/2419513 [==============================] - 0s 0us/step\n",
            "Downloading data from https://images.metmuseum.org/CRDImages/ep/original/DP290289.jpg\n",
            "2195456/2187978 [==============================] - 0s 0us/step\n",
            "Downloading data from https://images.metmuseum.org/CRDImages/ad/original/DP-1427-025.jpg\n",
            "2637824/2635161 [==============================] - 0s 0us/step\n",
            "Downloading data from https://images.metmuseum.org/CRDImages/ep/original/DP319026.jpg\n",
            "1564672/1560486 [==============================] - 0s 0us/step\n",
            "Downloading data from https://images.metmuseum.org/CRDImages/ep/original/DP-14936-027.jpg\n",
            "2023424/2020536 [==============================] - 0s 0us/step\n",
            "Downloading data from https://images.metmuseum.org/CRDImages/ep/original/DP145913.jpg\n",
            "1482752/1479102 [==============================] - 0s 0us/step\n",
            "Downloading data from https://images.metmuseum.org/CRDImages/ep/original/DT1958.jpg\n",
            "1466368/1458758 [==============================] - 0s 0us/step\n",
            "Downloading data from https://images.metmuseum.org/CRDImages/ep/original/DP-16064-001.jpg\n",
            "4317184/4314607 [==============================] - 0s 0us/step\n",
            "Downloading data from https://images.metmuseum.org/CRDImages/rl/original/DT718.jpg\n",
            "3678208/3672097 [==============================] - 0s 0us/step\n",
            "Downloading data from https://images.metmuseum.org/CRDImages/ep/original/DP146489.jpg\n",
            "2498560/2494952 [==============================] - 0s 0us/step\n",
            "Downloading data from https://images.metmuseum.org/CRDImages/ep/original/DT1976.jpg\n",
            "2981888/2976352 [==============================] - 0s 0us/step\n",
            "Downloading data from https://images.metmuseum.org/CRDImages/ep/original/ep29.100.119.bw.R.jpg\n",
            "2842624/2841047 [==============================] - 0s 0us/step\n",
            "Downloading data from https://images.metmuseum.org/CRDImages/ep/original/DT2157.jpg\n",
            "4005888/4002208 [==============================] - 0s 0us/step\n",
            "Downloading data from https://images.metmuseum.org/CRDImages/ep/original/DP-1275-001.jpg\n",
            "2686976/2686192 [==============================] - 0s 0us/step\n",
            "Downloading data from https://images.metmuseum.org/CRDImages/ad/original/ap50.145.37.jpg\n",
            "532480/532226 [==============================] - 0s 0us/step\n",
            "Downloading data from https://images.metmuseum.org/CRDImages/ad/original/DP-1427-027.jpg\n",
            "2818048/2817584 [==============================] - 0s 0us/step\n",
            "Downloading data from https://images.metmuseum.org/CRDImages/ep/original/DT2129.jpg\n",
            "2752512/2750369 [==============================] - 0s 0us/step\n",
            "Downloading data from https://images.metmuseum.org/CRDImages/ad/original/ap74.4.jpg\n",
            "1810432/1805488 [==============================] - 0s 0us/step\n",
            "Downloading data from https://images.metmuseum.org/CRDImages/ep/original/DP-17679-001.jpg\n",
            "3694592/3690158 [==============================] - 0s 0us/step\n",
            "Downloading data from https://images.metmuseum.org/CRDImages/ad/original/ap74.37.jpg\n",
            "1531904/1528002 [==============================] - 0s 0us/step\n",
            "Downloading data from https://images.metmuseum.org/CRDImages/ep/original/DT1874.jpg\n",
            "4005888/3999078 [==============================] - 0s 0us/step\n",
            "Downloading data from https://images.metmuseum.org/CRDImages/ep/original/DP274250.jpg\n",
            "2531328/2529272 [==============================] - 0s 0us/step\n",
            "Downloading data from https://images.metmuseum.org/CRDImages/ep/original/DP-13143-001_cropped.jpg\n",
            "1728512/1728394 [==============================] - 0s 0us/step\n",
            "Downloading data from https://images.metmuseum.org/CRDImages/ep/original/DT215205.jpg\n",
            "5144576/5139068 [==============================] - 0s 0us/step\n",
            "Downloading data from https://images.metmuseum.org/CRDImages/ep/original/DT1944.jpg\n",
            "2744320/2739403 [==============================] - 0s 0us/step\n",
            "Downloading data from https://images.metmuseum.org/CRDImages/ep/original/DP145909.jpg\n",
            "1761280/1760236 [==============================] - 0s 0us/step\n",
            "Downloading data from https://images.metmuseum.org/CRDImages/ep/original/DT2139.jpg\n",
            "3620864/3614130 [==============================] - 0s 0us/step\n",
            "Downloading data from https://images.metmuseum.org/CRDImages/ep/original/DT10697.jpg\n",
            "3063808/3057761 [==============================] - 0s 0us/step\n",
            "Downloading data from https://images.metmuseum.org/CRDImages/ep/original/DT872.jpg\n",
            "1859584/1852494 [==============================] - 0s 0us/step\n",
            "Downloading data from https://images.metmuseum.org/CRDImages/ep/original/DT1938.jpg\n",
            "2179072/2174726 [==============================] - 0s 0us/step\n",
            "Downloading data from https://images.metmuseum.org/CRDImages/ad/original/DP208350.jpg\n",
            "2342912/2341255 [==============================] - 0s 0us/step\n",
            "Downloading data from https://images.metmuseum.org/CRDImages/ad/original/DT2891.jpg\n",
            "2744320/2742298 [==============================] - 0s 0us/step\n",
            "Downloading data from https://images.metmuseum.org/CRDImages/ep/original/DP-16591-001.jpg\n",
            "4079616/4072648 [==============================] - 0s 0us/step\n",
            "Downloading data from https://images.metmuseum.org/CRDImages/ad/original/DP136861.jpg\n",
            "3211264/3203310 [==============================] - 0s 0us/step\n",
            "Downloading data from https://images.metmuseum.org/CRDImages/rl/original/DP-17279-001.jpg\n",
            "5824512/5820756 [==============================] - 0s 0us/step\n",
            "Downloading data from https://images.metmuseum.org/CRDImages/ad/original/DP-1427-049.jpg\n",
            "2768896/2767999 [==============================] - 0s 0us/step\n",
            "Downloading data from https://images.metmuseum.org/CRDImages/ad/original/ap74.24.jpg\n",
            "1409024/1404052 [==============================] - 0s 0us/step\n",
            "Downloading data from https://images.metmuseum.org/CRDImages/ep/original/DT1140.jpg\n",
            "3186688/3180167 [==============================] - 0s 0us/step\n",
            "Downloading data from https://images.metmuseum.org/CRDImages/ep/original/DT1931.jpg\n",
            "3080192/3079880 [==============================] - 0s 0us/step\n",
            "Downloading data from https://images.metmuseum.org/CRDImages/ep/original/DP257756.jpg\n",
            "3530752/3523975 [==============================] - 0s 0us/step\n",
            "Downloading data from https://images.metmuseum.org/CRDImages/ep/original/DP-14936-047.jpg\n",
            "5324800/5321850 [==============================] - 0s 0us/step\n",
            "Downloading data from https://images.metmuseum.org/CRDImages/ad/original/DP-1427-035.jpg\n",
            "2654208/2647263 [==============================] - 0s 0us/step\n",
            "Downloading data from https://images.metmuseum.org/CRDImages/ep/original/DP-20100-001.jpg\n",
            "5120000/5116573 [==============================] - 0s 0us/step\n",
            "Downloading data from https://images.metmuseum.org/CRDImages/ep/original/DT267444.jpg\n",
            "2973696/2965691 [==============================] - 0s 0us/step\n",
            "Downloading data from https://images.metmuseum.org/CRDImages/ep/original/DP124050.jpg\n",
            "1662976/1662262 [==============================] - 0s 0us/step\n",
            "Downloading data from https://images.metmuseum.org/CRDImages/ep/original/DP158871.jpg\n",
            "3186688/3183455 [==============================] - 0s 0us/step\n",
            "Downloading data from https://images.metmuseum.org/CRDImages/ad/original/ap08.90.jpg\n",
            "1236992/1236221 [==============================] - 0s 0us/step\n",
            "Downloading data from https://images.metmuseum.org/CRDImages/ep/original/DT1977.jpg\n",
            "3129344/3126190 [==============================] - 0s 0us/step\n",
            "Downloading data from https://images.metmuseum.org/CRDImages/ep/original/DP273977.jpg\n",
            "1998848/1997839 [==============================] - 0s 0us/step\n",
            "Downloading data from https://images.metmuseum.org/CRDImages/ad/original/DP105035.jpg\n",
            "2326528/2319859 [==============================] - 0s 0us/step\n",
            "Downloading data from https://images.metmuseum.org/CRDImages/ep/original/DP265242.jpg\n",
            "2883584/2883016 [==============================] - 0s 0us/step\n",
            "Downloading data from https://images.metmuseum.org/CRDImages/ep/original/DP124091.jpg\n",
            "2580480/2576055 [==============================] - 0s 0us/step\n",
            "Downloading data from https://images.metmuseum.org/CRDImages/ad/original/DT11749.jpg\n",
            "3571712/3569575 [==============================] - 0s 0us/step\n",
            "Downloading data from https://images.metmuseum.org/CRDImages/ep/original/DP302937.jpg\n",
            "2768896/2762271 [==============================] - 0s 0us/step\n",
            "Downloading data from https://images.metmuseum.org/CRDImages/ep/original/DT1881.jpg\n",
            "2695168/2688893 [==============================] - 0s 0us/step\n",
            "Downloading data from https://images.metmuseum.org/CRDImages/ep/original/DT1963.jpg\n",
            "3031040/3027348 [==============================] - 0s 0us/step\n",
            "Downloading data from https://images.metmuseum.org/CRDImages/ad/original/DP-1427-023.jpg\n",
            "2711552/2706423 [==============================] - 0s 0us/step\n",
            "Downloading data from https://images.metmuseum.org/CRDImages/ad/original/DT84.jpg\n",
            "2514944/2510723 [==============================] - 0s 0us/step\n",
            "Downloading data from https://images.metmuseum.org/CRDImages/ad/original/DP-1427-043.jpg\n",
            "2940928/2933222 [==============================] - 0s 0us/step\n",
            "Downloading data from https://images.metmuseum.org/CRDImages/ad/original/DP-1427-029.jpg\n",
            "2547712/2542778 [==============================] - 0s 0us/step\n",
            "Downloading data from https://images.metmuseum.org/CRDImages/ep/original/DT2013.jpg\n",
            "2252800/2249378 [==============================] - 0s 0us/step\n",
            "Downloading data from https://images.metmuseum.org/CRDImages/ep/original/DT1566.jpg\n",
            "3039232/3037172 [==============================] - 0s 0us/step\n",
            "Downloading data from https://images.metmuseum.org/CRDImages/ep/original/DT1910.jpg\n",
            "3137536/3130368 [==============================] - 0s 0us/step\n",
            "Downloading data from https://images.metmuseum.org/CRDImages/ep/original/DT200593.jpg\n",
            "2981888/2974969 [==============================] - 0s 0us/step\n",
            "Downloading data from https://images.metmuseum.org/CRDImages/ad/original/DP-1427-017.jpg\n",
            "2605056/2600574 [==============================] - 0s 0us/step\n",
            "Downloading data from https://images.metmuseum.org/CRDImages/ep/original/DT1399.jpg\n",
            "2121728/2116595 [==============================] - 0s 0us/step\n",
            "Downloading data from https://images.metmuseum.org/CRDImages/ad/original/DP-1427-019.jpg\n",
            "2670592/2664611 [==============================] - 0s 0us/step\n",
            "Downloading data from https://images.metmuseum.org/CRDImages/ad/original/DP-1427-037.jpg\n",
            "2580480/2574945 [==============================] - 0s 0us/step\n",
            "Downloading data from https://images.metmuseum.org/CRDImages/ep/original/DP130322.jpg\n",
            "2433024/2428987 [==============================] - 0s 0us/step\n",
            "Downloading data from https://images.metmuseum.org/CRDImages/rl/original/DP121332.jpg\n",
            "2048000/2047118 [==============================] - 0s 0us/step\n",
            "Downloading data from https://images.metmuseum.org/CRDImages/ad/original/DP-1427-041.jpg\n",
            "3129344/3122231 [==============================] - 0s 0us/step\n",
            "Downloading data from https://images.metmuseum.org/CRDImages/ad/original/ap1978.380.jpg\n",
            "638976/635243 [==============================] - 0s 0us/step\n",
            "Downloading data from https://images.metmuseum.org/CRDImages/ep/original/DT1876.jpg\n",
            "3244032/3239192 [==============================] - 0s 0us/step\n",
            "Downloading data from https://images.metmuseum.org/CRDImages/ep/original/DT9008.jpg\n",
            "1581056/1575967 [==============================] - 0s 0us/step\n",
            "Downloading data from https://images.metmuseum.org/CRDImages/ep/original/77J_045R2M.jpg\n",
            "2293760/2288739 [==============================] - 0s 0us/step\n",
            "Downloading data from https://images.metmuseum.org/CRDImages/ep/original/DT1487.jpg\n",
            "3874816/3872698 [==============================] - 0s 0us/step\n",
            "Downloading data from https://images.metmuseum.org/CRDImages/ep/original/DT1563.jpg\n",
            "2228224/2220987 [==============================] - 0s 0us/step\n",
            "Downloading data from https://images.metmuseum.org/CRDImages/ep/original/DP-14936-053.jpg\n",
            "6193152/6187185 [==============================] - 0s 0us/step\n",
            "Downloading data from https://images.metmuseum.org/CRDImages/ep/original/DT1920.jpg\n",
            "2826240/2819824 [==============================] - 0s 0us/step\n",
            "Downloading data from https://images.metmuseum.org/CRDImages/ep/original/DP-16589-001.jpg\n",
            "3391488/3389355 [==============================] - 0s 0us/step\n",
            "Downloading data from https://images.metmuseum.org/CRDImages/ep/original/DP-13655-001.jpg\n",
            "4243456/4242312 [==============================] - 0s 0us/step\n",
            "Downloading data from https://images.metmuseum.org/CRDImages/rl/original/DT3108.jpg\n",
            "3538944/3538871 [==============================] - 0s 0us/step\n",
            "Downloading data from https://images.metmuseum.org/CRDImages/ep/original/DP-14936-055.jpg\n",
            "3923968/3921012 [==============================] - 0s 0us/step\n",
            "Downloading data from https://images.metmuseum.org/CRDImages/ad/original/DP-1427-033.jpg\n",
            "2719744/2715952 [==============================] - 0s 0us/step\n",
            "Downloading data from https://images.metmuseum.org/CRDImages/ad/original/DP-1427-021.jpg\n",
            "2654208/2649575 [==============================] - 0s 0us/step\n",
            "Downloading data from https://images.metmuseum.org/CRDImages/ep/original/DT1562.jpg\n",
            "2416640/2413173 [==============================] - 0s 0us/step\n",
            "Downloading data from https://images.metmuseum.org/CRDImages/ep/original/DT1554.jpg\n",
            "2785280/2779625 [==============================] - 0s 0us/step\n",
            "Downloading data from https://images.metmuseum.org/CRDImages/ad/original/ap43.86.1.jpg\n",
            "1302528/1295285 [==============================] - 0s 0us/step\n",
            "Downloading data from https://images.metmuseum.org/CRDImages/ep/original/DT2005.jpg\n",
            "3530752/3530036 [==============================] - 0s 0us/step\n",
            "Downloading data from https://images.metmuseum.org/CRDImages/ad/original/DP218093.jpg\n",
            "2441216/2439271 [==============================] - 0s 0us/step\n",
            "Downloading data from https://images.metmuseum.org/CRDImages/ep/original/DP-14936-031.jpg\n",
            "3047424/3039614 [==============================] - 0s 0us/step\n",
            "Downloading data from https://images.metmuseum.org/CRDImages/ep/original/DT2017.jpg\n",
            "2154496/2151325 [==============================] - 0s 0us/step\n",
            "Downloading data from https://images.metmuseum.org/CRDImages/ep/original/DT1973.jpg\n",
            "3063808/3062677 [==============================] - 0s 0us/step\n",
            "Downloading data from https://images.metmuseum.org/CRDImages/ep/original/DT2010.jpg\n",
            "2424832/2416758 [==============================] - 0s 0us/step\n",
            "Downloading data from https://images.metmuseum.org/CRDImages/ep/original/DP-14976-001.jpg\n",
            "4587520/4582945 [==============================] - 0s 0us/step\n",
            "Downloading data from https://images.metmuseum.org/CRDImages/ep/original/DT1940.jpg\n",
            "2572288/2569432 [==============================] - 0s 0us/step\n",
            "Downloading data from https://images.metmuseum.org/CRDImages/ep/original/ep21.70.4.R.jpg\n",
            "450560/442811 [==============================] - 0s 0us/step\n",
            "Downloading data from https://images.metmuseum.org/CRDImages/ep/original/DT1943.jpg\n",
            "3080192/3078502 [==============================] - 0s 0us/step\n",
            "Downloading data from https://images.metmuseum.org/CRDImages/ad/original/188982.jpg\n",
            "581632/579218 [==============================] - 0s 0us/step\n",
            "Downloading data from https://images.metmuseum.org/CRDImages/ep/original/DT2016.jpg\n",
            "2457600/2450096 [==============================] - 0s 0us/step\n",
            "Downloading data from https://images.metmuseum.org/CRDImages/ad/original/ap74.27.jpg\n",
            "1417216/1410021 [==============================] - 0s 0us/step\n",
            "Downloading data from https://images.metmuseum.org/CRDImages/ep/original/DT1882.jpg\n",
            "3112960/3107791 [==============================] - 0s 0us/step\n",
            "Downloading data from https://images.metmuseum.org/CRDImages/ep/original/DP136266.jpg\n",
            "3375104/3371713 [==============================] - 0s 0us/step\n",
            "Downloading data from https://images.metmuseum.org/CRDImages/ep/original/DP145915.jpg\n",
            "2179072/2173932 [==============================] - 0s 0us/step\n",
            "Downloading data from https://images.metmuseum.org/CRDImages/ep/original/DP231550.jpg\n",
            "3047424/3041782 [==============================] - 0s 0us/step\n",
            "Downloading data from https://images.metmuseum.org/CRDImages/ad/original/DT2041.jpg\n",
            "2506752/2503384 [==============================] - 0s 0us/step\n",
            "Downloading data from https://images.metmuseum.org/CRDImages/ep/original/DT1911.jpg\n",
            "2514944/2507914 [==============================] - 0s 0us/step\n",
            "Downloading data from https://images.metmuseum.org/CRDImages/ad/original/ap74.6.jpg\n",
            "1851392/1849756 [==============================] - 0s 0us/step\n",
            "Downloading data from https://images.metmuseum.org/CRDImages/ep/original/DT1964.jpg\n",
            "3252224/3250275 [==============================] - 0s 0us/step\n",
            "Downloading data from https://images.metmuseum.org/CRDImages/ep/original/DT1967.jpg\n",
            "3063808/3056791 [==============================] - 0s 0us/step\n",
            "Downloading data from https://images.metmuseum.org/CRDImages/rl/original/DT3130.jpg\n",
            "3522560/3516222 [==============================] - 0s 0us/step\n",
            "Downloading data from https://images.metmuseum.org/CRDImages/ep/original/DT840.jpg\n",
            "2539520/2536764 [==============================] - 0s 0us/step\n",
            "Downloading data from https://images.metmuseum.org/CRDImages/ep/original/DT47.jpg\n",
            "2990080/2989655 [==============================] - 0s 0us/step\n",
            "Downloading data from https://images.metmuseum.org/CRDImages/ep/original/DP123836.jpg\n",
            "1703936/1695778 [==============================] - 0s 0us/step\n",
            "Downloading data from https://images.metmuseum.org/CRDImages/ad/original/ap43.86.2.jpg\n",
            "335872/335119 [==============================] - 0s 0us/step\n",
            "Downloading data from https://images.metmuseum.org/CRDImages/ep/original/DT1960.jpg\n",
            "1310720/1308726 [==============================] - 0s 0us/step\n",
            "Downloading data from https://images.metmuseum.org/CRDImages/ep/original/DP146479.jpg\n",
            "2547712/2547237 [==============================] - 0s 0us/step\n",
            "Downloading data from https://images.metmuseum.org/CRDImages/ep/original/DT6944.jpg\n",
            "2383872/2381051 [==============================] - 0s 0us/step\n",
            "Downloading data from https://images.metmuseum.org/CRDImages/ep/original/DP145910.jpg\n",
            "2531328/2523441 [==============================] - 0s 0us/step\n",
            "Downloading data from https://images.metmuseum.org/CRDImages/ep/original/DP332566.jpg\n",
            "2588672/2585149 [==============================] - 0s 0us/step\n",
            "Downloading data from https://images.metmuseum.org/CRDImages/ep/original/DT204709.jpg\n",
            "2834432/2826461 [==============================] - 0s 0us/step\n",
            "Downloading data from https://images.metmuseum.org/CRDImages/ep/original/DP-16590-001.jpg\n",
            "4423680/4419961 [==============================] - 0s 0us/step\n",
            "Downloading data from https://images.metmuseum.org/CRDImages/ep/original/DP241909.jpg\n",
            "4128768/4126952 [==============================] - 0s 0us/step\n",
            "Downloading data from https://images.metmuseum.org/CRDImages/ep/original/DT1909.jpg\n",
            "2310144/2306258 [==============================] - 0s 0us/step\n",
            "Downloading data from https://images.metmuseum.org/CRDImages/ad/original/ap74.11.jpg\n",
            "1171456/1163828 [==============================] - 0s 0us/step\n",
            "Downloading data from https://images.metmuseum.org/CRDImages/ep/original/DT859.jpg\n",
            "1957888/1953183 [==============================] - 0s 0us/step\n",
            "Downloading data from https://images.metmuseum.org/CRDImages/ad/original/APS3540.jpg\n",
            "827392/820587 [==============================] - 0s 0us/step\n",
            "Downloading data from https://images.metmuseum.org/CRDImages/ad/original/ap74.35.jpg\n",
            "1474560/1466603 [==============================] - 0s 0us/step\n",
            "Downloading data from https://images.metmuseum.org/CRDImages/ep/original/ep29.100.121.bw.R.jpg\n",
            "3457024/3454856 [==============================] - 0s 0us/step\n",
            "Downloading data from https://images.metmuseum.org/CRDImages/ep/original/DT204991.jpg\n",
            "2949120/2944368 [==============================] - 0s 0us/step\n",
            "Downloading data from https://images.metmuseum.org/CRDImages/ep/original/DP-14936-033.jpg\n",
            "7438336/7434057 [==============================] - 0s 0us/step\n",
            "Downloading data from https://images.metmuseum.org/CRDImages/ep/original/DP-17408-001.jpg\n",
            "2400256/2394235 [==============================] - 0s 0us/step\n",
            "Downloading data from https://images.metmuseum.org/CRDImages/ep/original/DT1492.jpg\n",
            "3317760/3314114 [==============================] - 0s 0us/step\n",
            "Downloading data from https://images.metmuseum.org/CRDImages/rl/original/DT3113.jpg\n",
            "3612672/3608740 [==============================] - 0s 0us/step\n",
            "Downloading data from https://images.metmuseum.org/CRDImages/ep/original/DT1879.jpg\n",
            "2269184/2262894 [==============================] - 0s 0us/step\n",
            "Downloading data from https://images.metmuseum.org/CRDImages/ep/original/ep14.40.811.R.jpg\n",
            "548864/543047 [==============================] - 0s 0us/step\n",
            "Downloading data from https://images.metmuseum.org/CRDImages/ad/original/ap74.30.jpg\n",
            "1204224/1201396 [==============================] - 0s 0us/step\n",
            "Downloading data from https://images.metmuseum.org/CRDImages/ep/original/DT2117.jpg\n",
            "1761280/1757594 [==============================] - 0s 0us/step\n",
            "Downloading data from https://images.metmuseum.org/CRDImages/ep/original/EP1004.jpg\n",
            "548864/543888 [==============================] - 0s 0us/step\n",
            "Downloading data from https://images.metmuseum.org/CRDImages/ep/original/DP121330.jpg\n",
            "2088960/2087086 [==============================] - 0s 0us/step\n",
            "Downloading data from https://images.metmuseum.org/CRDImages/ep/original/DP145921.jpg\n",
            "1458176/1455569 [==============================] - 0s 0us/step\n",
            "Downloading data from https://images.metmuseum.org/CRDImages/ep/original/DP145947.jpg\n",
            "2146304/2145901 [==============================] - 0s 0us/step\n",
            "Downloading data from https://images.metmuseum.org/CRDImages/ad/original/DT62.jpg\n",
            "2916352/2912762 [==============================] - 0s 0us/step\n",
            "Downloading data from https://images.metmuseum.org/CRDImages/ep/original/DT1937.jpg\n",
            "3112960/3108886 [==============================] - 0s 0us/step\n",
            "Downloading data from https://images.metmuseum.org/CRDImages/ep/original/DT1877.jpg\n",
            "4538368/4533916 [==============================] - 0s 0us/step\n",
            "Downloading data from https://images.metmuseum.org/CRDImages/ad/original/DP-1427-045.jpg\n",
            "2752512/2749398 [==============================] - 0s 0us/step\n",
            "Downloading data from https://images.metmuseum.org/CRDImages/ep/original/DT1961.jpg\n",
            "2564096/2561366 [==============================] - 0s 0us/step\n",
            "Downloading data from https://images.metmuseum.org/CRDImages/ad/original/ap81.12.jpg\n",
            "1236992/1232583 [==============================] - 0s 0us/step\n",
            "Downloading data from https://images.metmuseum.org/CRDImages/ep/original/DP145399.jpg\n",
            "2662400/2659467 [==============================] - 0s 0us/step\n",
            "Downloading data from https://images.metmuseum.org/CRDImages/ad/original/DP-1427-051.jpg\n",
            "2809856/2802841 [==============================] - 0s 0us/step\n",
            "Downloading data from https://images.metmuseum.org/CRDImages/ep/original/DP-20338-001.jpg\n",
            "7012352/7007262 [==============================] - 0s 0us/step\n",
            "Downloading data from https://images.metmuseum.org/CRDImages/ad/original/DP-1427-015.jpg\n",
            "2826240/2822033 [==============================] - 1s 0us/step\n",
            "Downloading data from https://images.metmuseum.org/CRDImages/ep/original/DT1975.jpg\n",
            "2490368/2488447 [==============================] - 0s 0us/step\n",
            "Downloading data from https://images.metmuseum.org/CRDImages/ad/original/DP-1427-047.jpg\n",
            "2949120/2943988 [==============================] - 0s 0us/step\n",
            "Downloading data from https://images.metmuseum.org/CRDImages/ad/original/ap1986.264.1.jpg\n",
            "1056768/1053133 [==============================] - 0s 0us/step\n",
            "Downloading data from https://images.metmuseum.org/CRDImages/ad/original/ap74.7.jpg\n",
            "1122304/1118633 [==============================] - 0s 0us/step\n",
            "Downloading data from https://images.metmuseum.org/CRDImages/ep/original/DT4224.jpg\n",
            "3563520/3560841 [==============================] - 0s 0us/step\n",
            "Downloading data from https://images.metmuseum.org/CRDImages/ad/original/ap88.18.jpg\n",
            "1064960/1059483 [==============================] - 0s 0us/step\n",
            "Downloading data from https://images.metmuseum.org/CRDImages/ep/original/DP121326.jpg\n",
            "1933312/1925701 [==============================] - 0s 0us/step\n",
            "Downloading data from https://images.metmuseum.org/CRDImages/ad/original/ap74.29.jpg\n",
            "1212416/1205924 [==============================] - 0s 0us/step\n",
            "Downloading data from https://images.metmuseum.org/CRDImages/ad/original/DT11172.jpg\n",
            "2170880/2164823 [==============================] - 0s 0us/step\n",
            "Downloading data from https://images.metmuseum.org/CRDImages/rl/original/DT3131.jpg\n",
            "3121152/3113774 [==============================] - 0s 0us/step\n",
            "Downloading data from https://images.metmuseum.org/CRDImages/ad/original/DP-1427-053.jpg\n",
            "3031040/3028931 [==============================] - 0s 0us/step\n",
            "Downloading data from https://images.metmuseum.org/CRDImages/ep/original/DT1918.jpg\n",
            "2072576/2071532 [==============================] - 0s 0us/step\n",
            "Downloading data from https://images.metmuseum.org/CRDImages/ad/original/ap74.28.jpg\n",
            "1744896/1743259 [==============================] - 0s 0us/step\n",
            "Downloading data from https://images.metmuseum.org/CRDImages/ad/original/ap38.61.jpg\n",
            "999424/998902 [==============================] - 0s 0us/step\n",
            "Downloading data from https://images.metmuseum.org/CRDImages/ad/original/ap74.25.jpg\n",
            "1163264/1156259 [==============================] - 0s 0us/step\n",
            "Downloading data from https://images.metmuseum.org/CRDImages/ep/original/DP212152.jpg\n",
            "3211264/3203582 [==============================] - 0s 0us/step\n",
            "Downloading data from https://images.metmuseum.org/CRDImages/ep/original/DP320128.jpg\n",
            "2080768/2079952 [==============================] - 0s 0us/step\n",
            "Downloading data from https://images.metmuseum.org/CRDImages/ep/original/DP-17058-001.jpg\n",
            "4759552/4752947 [==============================] - 0s 0us/step\n",
            "Downloading data from https://images.metmuseum.org/CRDImages/ep/original/DP-15681-001.jpg\n",
            "3555328/3550511 [==============================] - 0s 0us/step\n",
            "Downloading data from https://images.metmuseum.org/CRDImages/ad/original/DP-1427-005.jpg\n",
            "2842624/2837847 [==============================] - 0s 0us/step\n",
            "\n"
          ]
        }
      ],
      "source": [
        "!pip install tqdm\n",
        "from tqdm.notebook import tqdm\n",
        "\n",
        "for i in tqdm(all_image_paths):\n",
        "  create_file(i)"
      ]
    },
    {
      "cell_type": "code",
      "execution_count": null,
      "metadata": {
        "id": "J6FVrSNa-uj-"
      },
      "outputs": [],
      "source": [
        "import pathlib\n",
        "\n",
        "data_root = pathlib.Path('/root/.keras/datasets/')\n",
        "all_image_paths = sorted(list(sorted(data_root.glob('?.jpg'))))+sorted(list(sorted(data_root.glob('??.jpg'))))+sorted(list(sorted(data_root.glob('???.jpg'))))\n",
        "all_image_paths = [str(path) for path in all_image_paths]\n",
        "all_image_labels_o = np.eye(n_labels)[all_image_labels_i] \n",
        "\n",
        "def preprocess_image(image):\n",
        "  image = tf.image.decode_jpeg(image, channels=3)\n",
        "  image = tf.image.resize(image, [384, 384])\n",
        "  image /= 255.0  \n",
        "  return image\n",
        "\n",
        "def load_and_preprocess_image(path):\n",
        "  image = tf.io.read_file(path)\n",
        "  return preprocess_image(image)\n",
        "\n",
        "path_ds = tf.data.Dataset.from_tensor_slices(all_image_paths)\n",
        "image_ds = path_ds.map(load_and_preprocess_image, num_parallel_calls=AUTOTUNE)\n",
        "\n",
        "label_ds = tf.data.Dataset.from_tensor_slices(tf.cast(all_image_labels_o, tf.int64))\n",
        "image_label_ds = tf.data.Dataset.zip((image_ds, label_ds))"
      ]
    },
    {
      "cell_type": "code",
      "execution_count": null,
      "metadata": {
        "colab": {
          "base_uri": "https://localhost:8080/",
          "height": 580
        },
        "id": "GE-38Sz1B23R",
        "outputId": "119cf446-e30e-47fd-8c11-4673cc6dc755"
      },
      "outputs": [
        {
          "data": {
            "image/png": "[encoded data removed]",
            "text/plain": [
              "<Figure size 576x576 with 1 Axes>"
            ]
          },
          "metadata": {
            "tags": []
          },
          "output_type": "display_data"
        },
        {
          "data": {
            "image/png": "[encoded data removed]",
            "text/plain": [
              "<Figure size 432x288 with 1 Axes>"
            ]
          },
          "metadata": {
            "tags": []
          },
          "output_type": "display_data"
        },
        {
          "data": {
            "image/png": "[encoded data removed]",
            "text/plain": [
              "<Figure size 432x288 with 1 Axes>"
            ]
          },
          "metadata": {
            "tags": []
          },
          "output_type": "display_data"
        },
        {
          "data": {
            "image/png": "[encoded data removed]",
            "text/plain": [
              "<Figure size 432x288 with 1 Axes>"
            ]
          },
          "metadata": {
            "tags": []
          },
          "output_type": "display_data"
        }
      ],
      "source": [
        "plt.figure(figsize=(8,8))\n",
        "for n,image in enumerate(image_ds.take(4)):\n",
        " plt.subplot(2,2,n+1)\n",
        " plt.imshow(image)\n",
        " plt.grid(False)\n",
        " plt.xticks([])\n",
        " plt.yticks([])\n",
        " plt.show()"
      ]
    },
    {
      "cell_type": "code",
      "execution_count": null,
      "metadata": {
        "colab": {
          "base_uri": "https://localhost:8080/"
        },
        "id": "odEOvocDGQ3E",
        "outputId": "fa90b995-7c4f-4b1f-c4a1-30eb571e837a"
      },
      "outputs": [
        {
          "data": {
            "text/plain": [
              "175"
            ]
          },
          "execution_count": 16,
          "metadata": {
            "tags": []
          },
          "output_type": "execute_result"
        }
      ],
      "source": [
        "image_count"
      ]
    },
    {
      "cell_type": "code",
      "execution_count": null,
      "metadata": {
        "id": "1L0xklMm-wyE"
      },
      "outputs": [],
      "source": [
        "BATCH_SIZE = 5\n",
        "ds = image_label_ds.batch(BATCH_SIZE)\n",
        "ds = ds.prefetch(buffer_size=AUTOTUNE) \n",
        "batch = next(iter(ds.as_numpy_iterator()))"
      ]
    },
    {
      "cell_type": "code",
      "execution_count": null,
      "metadata": {
        "id": "Qgpr_PW0-2bP"
      },
      "outputs": [],
      "source": [
        "VisionTransformer = models.KNOWN_MODELS[model].partial(num_classes=10)\n",
        "_, params = VisionTransformer.init_by_shape(\n",
        "    jax.random.PRNGKey(0),\n",
        "    [(batch[0].shape, 'float32')])"
      ]
    },
    {
      "cell_type": "code",
      "execution_count": null,
      "metadata": {
        "colab": {
          "base_uri": "https://localhost:8080/"
        },
        "id": "21-ey2Jj-3_5",
        "outputId": "317eea9d-5db8-4f72-94fe-6bc040e596d0"
      },
      "outputs": [
        {
          "name": "stderr",
          "output_type": "stream",
          "text": [
            "2021-06-15 00:40:42,586 [WARNING] vit_jax.logging: Inspect recovered empty keys:\n",
            "{'pre_logits'}\n",
            "2021-06-15 00:40:42,587 [INFO] vit_jax.logging: Inspect extra keys:\n",
            "{'pre_logits/bias', 'pre_logits/kernel'}\n",
            "2021-06-15 00:40:42,591 [INFO] vit_jax.logging: load_pretrained: drop-head variant\n",
            "2021-06-15 00:40:42,595 [INFO] vit_jax.logging: load_pretrained: resized variant: (1, 197, 768) to (1, 577, 768)\n",
            "2021-06-15 00:40:42,597 [INFO] vit_jax.logging: load_pretrained: grid-size from 14 to 24\n"
          ]
        },
        {
          "name": "stdout",
          "output_type": "stream",
          "text": [
            "params.cls: ndarray (1, 1, 768)\n",
            "params_repl.cls: ShardedDeviceArray (1, 1, 1, 768)\n"
          ]
        },
        {
          "name": "stderr",
          "output_type": "stream",
          "text": [
            "/usr/local/lib/python3.7/dist-packages/jax/lib/xla_bridge.py:317: UserWarning: jax.host_count has been renamed to jax.process_count. This alias will eventually be removed; please update your code.\n",
            "  \"jax.host_count has been renamed to jax.process_count. This alias \"\n",
            "/usr/local/lib/python3.7/dist-packages/jax/lib/xla_bridge.py:304: UserWarning: jax.host_id has been renamed to jax.process_index. This alias will eventually be removed; please update your code.\n",
            "  \"jax.host_id has been renamed to jax.process_index. This alias \"\n"
          ]
        }
      ],
      "source": [
        "params = checkpoint.load_pretrained(\n",
        "    pretrained_path=f'{model}.npz',\n",
        "    init_params=params,\n",
        "    model_config=models.CONFIGS[model],\n",
        "    logger=logger,\n",
        ")\n",
        "\n",
        "params_repl = flax.jax_utils.replicate(params)\n",
        "print('params.cls:', type(params['cls']).__name__, params['cls'].shape)\n",
        "print('params_repl.cls:', type(params_repl['cls']).__name__, params_repl['cls'].shape)\n",
        "\n",
        "vit_apply_repl = jax.pmap(VisionTransformer.call)"
      ]
    },
    {
      "cell_type": "code",
      "execution_count": null,
      "metadata": {
        "id": "_rYQVDs2_JSK"
      },
      "outputs": [],
      "source": [
        "total_steps = 35\n",
        "warmup_steps = 5\n",
        "decay_type = 'cosine'\n",
        "grad_norm_clip = 1\n",
        "accum_steps = 5\n",
        "base_lr = 0.03"
      ]
    },
    {
      "cell_type": "code",
      "execution_count": null,
      "metadata": {
        "colab": {
          "base_uri": "https://localhost:8080/"
        },
        "id": "3e8plGDr_SK4",
        "outputId": "3b1df4cb-a30e-47e1-aa45-fb1bad5c476a"
      },
      "outputs": [
        {
          "name": "stderr",
          "output_type": "stream",
          "text": [
            "/usr/local/lib/python3.7/dist-packages/jax/lib/xla_bridge.py:317: UserWarning: jax.host_count has been renamed to jax.process_count. This alias will eventually be removed; please update your code.\n",
            "  \"jax.host_count has been renamed to jax.process_count. This alias \"\n",
            "/usr/local/lib/python3.7/dist-packages/jax/lib/xla_bridge.py:304: UserWarning: jax.host_id has been renamed to jax.process_index. This alias will eventually be removed; please update your code.\n",
            "  \"jax.host_id has been renamed to jax.process_index. This alias \"\n"
          ]
        }
      ],
      "source": [
        "update_fn_repl = train.make_update_fn(VisionTransformer.call, accum_steps)\n",
        "\n",
        "opt = momentum_clip.Optimizer(grad_norm_clip=grad_norm_clip).create(params)\n",
        "opt_repl = flax.jax_utils.replicate(opt)\n",
        "\n",
        "lr_fn = hyper.create_learning_rate_schedule(total_steps, base_lr, decay_type, warmup_steps)\n",
        "lr_iter = hyper.lr_prefetch_iter(lr_fn, 0, total_steps)\n",
        "update_rngs = jax.random.split(jax.random.PRNGKey(0), jax.local_device_count())"
      ]
    },
    {
      "cell_type": "code",
      "execution_count": null,
      "metadata": {
        "colab": {
          "base_uri": "https://localhost:8080/",
          "height": 66,
          "referenced_widgets": [
            "b700fb6e1ccf48fdb4b67d5b0c4d6719",
            "ca4de1e6030f4c0395697a8da390b4b4",
            "5439d0432bc84e18941d95ce77431c50",
            "65ec07a909734c7387c579fa11f02a7d",
            "7c5211c5c25d48a99d156c933db23a85",
            "f4323f1581604a2c9ab786faed0ccb23",
            "2b161bad6d304128b1d4d07b5704658b",
            "817d1297bed945babb875dd998ba7837"
          ]
        },
        "id": "otW3w47H_LK2",
        "outputId": "5160667e-cad2-4601-cc7e-0b47e5eff77a"
      },
      "outputs": [
        {
          "data": {
            "application/vnd.jupyter.widget-view+json": {
              "model_id": "b700fb6e1ccf48fdb4b67d5b0c4d6719",
              "version_major": 2,
              "version_minor": 0
            },
            "text/plain": [
              "HBox(children=(FloatProgress(value=0.0, max=35.0), HTML(value='')))"
            ]
          },
          "metadata": {
            "tags": []
          },
          "output_type": "display_data"
        },
        {
          "name": "stdout",
          "output_type": "stream",
          "text": [
            "\n"
          ]
        }
      ],
      "source": [
        "import tqdm\n",
        "\n",
        "for step, batch, lr_repl in zip(\n",
        "    tqdm.notebook.trange(1, total_steps + 1),\n",
        "    ds.as_numpy_iterator(),\n",
        "    lr_iter\n",
        "):\n",
        "  batch_dict = {\n",
        "      'image':np.array([batch[0]]),\n",
        "      'label':np.array([batch[1]])\n",
        "  }\n",
        "  opt_repl, loss_repl, update_rngs = update_fn_repl(\n",
        "      opt_repl, lr_repl, batch_dict, update_rngs)"
      ]
    },
    {
      "cell_type": "code",
      "execution_count": null,
      "metadata": {
        "id": "InZmxj5Y_V18"
      },
      "outputs": [],
      "source": [
        "vit_apply_repl = jax.pmap(VisionTransformer.call)\n",
        "\n",
        "label_names_test = sorted(list(set([item for item in test_data['Artist Display Name']])))\n",
        "label_to_index_pre_test = dict((index,name) for index,name in enumerate(label_names_test))\n",
        "df_test = pd.DataFrame.from_dict(label_to_index_pre_test, orient='index')\n",
        "df_test = df_test.reset_index()\n",
        "df_test = df_test.set_axis(['label', 'Artist Display Name'], axis=1)\n",
        "all_image_labels_test=[]\n",
        "for i in range(len(test_data)):\n",
        "  all_image_labels_test.append(int(df_test[df_test['Artist Display Name'] == test_data.loc[i]['Artist Display Name']]['label']))\n",
        "all_image_labels_test_i = [int(s) for s in all_image_labels_test]\n",
        "n_labels_test = len(np.unique(all_image_labels_test_i))\n",
        "\n",
        "test_image_paths = list(test_data['primaryImage'])\n",
        "image_count2 = len(test_image_paths)"
      ]
    },
    {
      "cell_type": "code",
      "execution_count": null,
      "metadata": {
        "colab": {
          "base_uri": "https://localhost:8080/",
          "height": 1000,
          "referenced_widgets": [
            "49548c7036f0422d85284c1ada0a1072",
            "31b02948820d43b5bb1890724741bf70",
            "cdf370dd106b45aca8d1ee09a29725e1",
            "74a9b79b29804052b80c334e13b1b873",
            "02ab15504d814707afc98130ed773995",
            "b146a255e311467889dd5f4c4b899005",
            "061cd6b42778480e9e3779825e091f29",
            "c33811098e0947a4b1d05a4e38209d51"
          ]
        },
        "id": "PkL6gQsN_aMm",
        "outputId": "cd6e01d6-a0a2-476b-8a94-74545759dc95"
      },
      "outputs": [
        {
          "data": {
            "application/vnd.jupyter.widget-view+json": {
              "model_id": "49548c7036f0422d85284c1ada0a1072",
              "version_major": 2,
              "version_minor": 0
            },
            "text/plain": [
              "HBox(children=(FloatProgress(value=0.0, max=75.0), HTML(value='')))"
            ]
          },
          "metadata": {
            "tags": []
          },
          "output_type": "display_data"
        },
        {
          "name": "stdout",
          "output_type": "stream",
          "text": [
            "Downloading data from https://images.metmuseum.org/CRDImages/ep/original/DT1489.jpg\n",
            "2531328/2528539 [==============================] - 0s 0us/step\n",
            "Downloading data from https://images.metmuseum.org/CRDImages/ep/original/DT862.jpg\n",
            "1540096/1532722 [==============================] - 0s 0us/step\n",
            "Downloading data from https://images.metmuseum.org/CRDImages/ep/original/DT2014.jpg\n",
            "1728512/1726700 [==============================] - 0s 0us/step\n",
            "Downloading data from https://images.metmuseum.org/CRDImages/ep/original/DP-20099-001.jpg\n",
            "6430720/6423070 [==============================] - 0s 0us/step\n",
            "Downloading data from https://images.metmuseum.org/CRDImages/ep/original/ep29.100.598.R.jpg\n",
            "352256/351069 [==============================] - 0s 0us/step\n",
            "Downloading data from https://images.metmuseum.org/CRDImages/ad/original/DT2040.jpg\n",
            "2064384/2063075 [==============================] - 0s 0us/step\n",
            "Downloading data from https://images.metmuseum.org/CRDImages/ep/original/EP1059.jpg\n",
            "565248/558451 [==============================] - 0s 0us/step\n",
            "Downloading data from https://images.metmuseum.org/CRDImages/ad/original/DT2042.jpg\n",
            "2138112/2131440 [==============================] - 0s 0us/step\n",
            "Downloading data from https://images.metmuseum.org/CRDImages/ep/original/DP332562.jpg\n",
            "3096576/3093301 [==============================] - 0s 0us/step\n",
            "Downloading data from https://images.metmuseum.org/CRDImages/ad/original/DP-1427-039.jpg\n",
            "2859008/2857902 [==============================] - 0s 0us/step\n",
            "Downloading data from https://images.metmuseum.org/CRDImages/ad/original/ap74.39.jpg\n",
            "1671168/1669470 [==============================] - 0s 0us/step\n",
            "Downloading data from https://images.metmuseum.org/CRDImages/ep/original/DP-16969-001.jpg\n",
            "3342336/3337133 [==============================] - 0s 0us/step\n",
            "Downloading data from https://images.metmuseum.org/CRDImages/ep/original/ep29.100.123.bw.R.jpg\n",
            "2416640/2413325 [==============================] - 0s 0us/step\n",
            "Downloading data from https://images.metmuseum.org/CRDImages/ep/original/DT1933.jpg\n",
            "1548288/1544829 [==============================] - 0s 0us/step\n",
            "Downloading data from https://images.metmuseum.org/CRDImages/ep/original/DT2156.jpg\n",
            "2957312/2957147 [==============================] - 0s 0us/step\n",
            "Downloading data from https://images.metmuseum.org/CRDImages/ep/original/DP-14936-039.jpg\n",
            "5996544/5995263 [==============================] - 0s 0us/step\n",
            "Downloading data from https://images.metmuseum.org/CRDImages/ad/original/ap24.109.84.jpg\n",
            "1261568/1260519 [==============================] - 0s 0us/step\n",
            "Downloading data from https://images.metmuseum.org/CRDImages/ep/original/dp130799.jpg\n",
            "1966080/1964224 [==============================] - 0s 0us/step\n",
            "Downloading data from https://images.metmuseum.org/CRDImages/ad/original/DT2039.jpg\n",
            "2252800/2251165 [==============================] - 0s 0us/step\n",
            "Downloading data from https://images.metmuseum.org/CRDImages/ad/original/ap25.110.5.jpg\n",
            "909312/908094 [==============================] - 0s 0us/step\n",
            "Downloading data from https://images.metmuseum.org/CRDImages/ep/original/DP146454.jpg\n",
            "2809856/2809130 [==============================] - 0s 0us/step\n",
            "Downloading data from https://images.metmuseum.org/CRDImages/ep/original/DT2008.jpg\n",
            "1957888/1955059 [==============================] - 0s 0us/step\n",
            "Downloading data from https://images.metmuseum.org/CRDImages/ep/original/DP-20101-001.jpg\n",
            "5210112/5207233 [==============================] - 0s 0us/step\n",
            "Downloading data from https://images.metmuseum.org/CRDImages/ep/original/ep56.230.1.R.jpg\n",
            "557056/551322 [==============================] - 0s 0us/step\n",
            "Downloading data from https://images.metmuseum.org/CRDImages/ep/original/DP-17996-001.jpg\n",
            "5734400/5732176 [==============================] - 0s 0us/step\n",
            "Downloading data from https://images.metmuseum.org/CRDImages/ep/original/DP-19283-001.jpg\n",
            "5275648/5274721 [==============================] - 0s 0us/step\n",
            "Downloading data from https://images.metmuseum.org/CRDImages/ep/original/DT1408.jpg\n",
            "3072000/3068747 [==============================] - 0s 0us/step\n",
            "Downloading data from https://images.metmuseum.org/CRDImages/ep/original/DT887.jpg\n",
            "2555904/2552576 [==============================] - 0s 0us/step\n",
            "Downloading data from https://images.metmuseum.org/CRDImages/ep/original/DP317780.jpg\n",
            "2908160/2903042 [==============================] - 0s 0us/step\n",
            "Downloading data from https://images.metmuseum.org/CRDImages/ep/original/DT249052.jpg\n",
            "3473408/3466702 [==============================] - 0s 0us/step\n",
            "Downloading data from https://images.metmuseum.org/CRDImages/ep/original/DP120783.jpg\n",
            "172032/168164 [==============================] - 0s 0us/step\n",
            "Downloading data from https://images.metmuseum.org/CRDImages/ad/original/DP-1427-011.jpg\n",
            "2613248/2606391 [==============================] - 0s 0us/step\n",
            "Downloading data from https://images.metmuseum.org/CRDImages/ad/original/DP-1427-007.jpg\n",
            "2506752/2504807 [==============================] - 0s 0us/step\n",
            "Downloading data from https://images.metmuseum.org/CRDImages/ep/original/DT297552.jpg\n",
            "3514368/3510163 [==============================] - 0s 0us/step\n",
            "Downloading data from https://images.metmuseum.org/CRDImages/ad/original/DP-1427-001.jpg\n",
            "2555904/2555733 [==============================] - 0s 0us/step\n",
            "Downloading data from https://images.metmuseum.org/CRDImages/ep/original/DT2147.jpg\n",
            "2048000/2047349 [==============================] - 0s 0us/step\n",
            "Downloading data from https://images.metmuseum.org/CRDImages/ep/original/DT1968.jpg\n",
            "2170880/2165420 [==============================] - 0s 0us/step\n",
            "Downloading data from https://images.metmuseum.org/CRDImages/ep/original/DT225534.jpg\n",
            "2490368/2485929 [==============================] - 0s 0us/step\n",
            "Downloading data from https://images.metmuseum.org/CRDImages/ad/original/DT240957.jpg\n",
            "2949120/2942670 [==============================] - 0s 0us/step\n",
            "Downloading data from https://images.metmuseum.org/CRDImages/ep/original/DT2018.jpg\n",
            "2580480/2576161 [==============================] - 0s 0us/step\n",
            "Downloading data from https://images.metmuseum.org/CRDImages/ad/original/ap74.13.jpg\n",
            "1941504/1935673 [==============================] - 0s 0us/step\n",
            "Downloading data from https://images.metmuseum.org/CRDImages/ep/original/DP-16065-001.jpg\n",
            "4456448/4451342 [==============================] - 0s 0us/step\n",
            "Downloading data from https://images.metmuseum.org/CRDImages/ep/original/DT1878.jpg\n",
            "2686976/2683216 [==============================] - 0s 0us/step\n",
            "Downloading data from https://images.metmuseum.org/CRDImages/ep/original/DT45.jpg\n",
            "3194880/3186991 [==============================] - 0s 0us/step\n",
            "Downloading data from https://images.metmuseum.org/CRDImages/ad/original/DP-1427-013.jpg\n",
            "2760704/2754684 [==============================] - 0s 0us/step\n",
            "Downloading data from https://images.metmuseum.org/CRDImages/ep/original/DT1488.jpg\n",
            "2334720/2327102 [==============================] - 0s 0us/step\n",
            "Downloading data from https://images.metmuseum.org/CRDImages/ad/original/ap74.20.jpg\n",
            "1425408/1424134 [==============================] - 0s 0us/step\n",
            "Downloading data from https://images.metmuseum.org/CRDImages/ep/original/DT1564.jpg\n",
            "2162688/2156282 [==============================] - 0s 0us/step\n",
            "Downloading data from https://images.metmuseum.org/CRDImages/ad/original/ap50.213.jpg\n",
            "868352/868286 [==============================] - 0s 0us/step\n",
            "Downloading data from https://images.metmuseum.org/CRDImages/ad/original/DT2043.jpg\n",
            "2342912/2335039 [==============================] - 0s 0us/step\n",
            "Downloading data from https://images.metmuseum.org/CRDImages/ad/original/ap74.38.jpg\n",
            "1654784/1647539 [==============================] - 0s 0us/step\n",
            "Downloading data from https://images.metmuseum.org/CRDImages/ep/original/DP-14936-049.jpg\n",
            "5332992/5328549 [==============================] - 0s 0us/step\n",
            "Downloading data from https://images.metmuseum.org/CRDImages/ep/original/DP-16592-001.jpg\n",
            "4554752/4549557 [==============================] - 0s 0us/step\n",
            "Downloading data from https://images.metmuseum.org/CRDImages/ad/original/DP105036.jpg\n",
            "2433024/2428616 [==============================] - 0s 0us/step\n",
            "Downloading data from https://images.metmuseum.org/CRDImages/ep/original/DP302942.jpg\n",
            "2473984/2467249 [==============================] - 0s 0us/step\n",
            "Downloading data from https://images.metmuseum.org/CRDImages/rl/original/DT3128.jpg\n",
            "3284992/3282932 [==============================] - 0s 0us/step\n",
            "Downloading data from https://images.metmuseum.org/CRDImages/ep/original/DP275510.jpg\n",
            "1114112/1112244 [==============================] - 0s 0us/step\n",
            "Downloading data from https://images.metmuseum.org/CRDImages/ad/original/APS530.jpg\n",
            "983040/981542 [==============================] - 0s 0us/step\n",
            "Downloading data from https://images.metmuseum.org/CRDImages/ep/original/DT1398.jpg\n",
            "3031040/3028552 [==============================] - 0s 0us/step\n",
            "Downloading data from https://images.metmuseum.org/CRDImages/ep/original/DT1912.jpg\n",
            "3203072/3199269 [==============================] - 0s 0us/step\n",
            "Downloading data from https://images.metmuseum.org/CRDImages/ep/original/DT1029.jpg\n",
            "2080768/2073570 [==============================] - 0s 0us/step\n",
            "Downloading data from https://images.metmuseum.org/CRDImages/ep/original/DT1942.jpg\n",
            "3072000/3067470 [==============================] - 0s 0us/step\n",
            "Downloading data from https://images.metmuseum.org/CRDImages/ad/original/DP-1427-031.jpg\n",
            "2842624/2837059 [==============================] - 0s 0us/step\n",
            "Downloading data from https://images.metmuseum.org/CRDImages/ep/original/DP145938.jpg\n",
            "1122304/1117495 [==============================] - 0s 0us/step\n",
            "Downloading data from https://images.metmuseum.org/CRDImages/ep/original/DT1966.jpg\n",
            "3080192/3079105 [==============================] - 0s 0us/step\n",
            "Downloading data from https://images.metmuseum.org/CRDImages/ad/original/DT226485.jpg\n",
            "1630208/1628074 [==============================] - 0s 0us/step\n",
            "Downloading data from https://images.metmuseum.org/CRDImages/ad/original/DP-1427-003.jpg\n",
            "2883584/2881273 [==============================] - 0s 0us/step\n",
            "Downloading data from https://images.metmuseum.org/CRDImages/rl/original/SLP0202.jpg\n",
            "3710976/3710297 [==============================] - 0s 0us/step\n",
            "Downloading data from https://images.metmuseum.org/CRDImages/ep/original/DT1965.jpg\n",
            "2252800/2245931 [==============================] - 0s 0us/step\n",
            "Downloading data from https://images.metmuseum.org/CRDImages/ep/original/DP145920.jpg\n",
            "2801664/2798432 [==============================] - 0s 0us/step\n",
            "Downloading data from https://images.metmuseum.org/CRDImages/ep/original/DT1939.jpg\n",
            "2711552/2703561 [==============================] - 0s 0us/step\n",
            "Downloading data from https://images.metmuseum.org/CRDImages/ep/original/DT49.jpg\n",
            "2465792/2465157 [==============================] - 0s 0us/step\n",
            "Downloading data from https://images.metmuseum.org/CRDImages/ep/original/DP-16323-001.jpg\n",
            "3751936/3745892 [==============================] - 0s 0us/step\n",
            "Downloading data from https://images.metmuseum.org/CRDImages/ep/original/DT1962.jpg\n",
            "2678784/2678631 [==============================] - 0s 0us/step\n",
            "Downloading data from https://images.metmuseum.org/CRDImages/ad/original/DP-1427-009.jpg\n",
            "2826240/2823006 [==============================] - 0s 0us/step\n",
            "\n"
          ]
        }
      ],
      "source": [
        "from tqdm.notebook import tqdm\n",
        "for i in tqdm(test_image_paths):\n",
        "  create_file(i)"
      ]
    },
    {
      "cell_type": "code",
      "execution_count": null,
      "metadata": {
        "id": "Hh2etc93_frn"
      },
      "outputs": [],
      "source": [
        "data_root = pathlib.Path('/root/.keras/datasets/')\n",
        "test_image_paths = sorted(list(sorted(data_root.glob('?.jpg'))))+sorted(list(sorted(data_root.glob('??.jpg'))))+sorted(list(sorted(data_root.glob('???.jpg'))))\n",
        "test_image_paths = [str(path) for path in test_image_paths][image_count:]\n",
        "test_image_paths_o = np.eye(n_labels_test)[all_image_labels_test_i] \n",
        "\n",
        "path_ds_test = tf.data.Dataset.from_tensor_slices(test_image_paths)\n",
        "image_ds_test = path_ds_test.map(load_and_preprocess_image, num_parallel_calls=AUTOTUNE)"
      ]
    },
    {
      "cell_type": "code",
      "execution_count": null,
      "metadata": {
        "colab": {
          "base_uri": "https://localhost:8080/",
          "height": 580
        },
        "id": "z6cIzpSM_hef",
        "outputId": "5bd6f295-b1fa-441d-e723-3baed5450743"
      },
      "outputs": [
        {
          "data": {
            "image/png": "[encoded data removed]",
            "text/plain": [
              "<Figure size 576x576 with 1 Axes>"
            ]
          },
          "metadata": {
            "tags": []
          },
          "output_type": "display_data"
        },
        {
          "data": {
            "image/png": "[encoded data removed]",
            "text/plain": [
              "<Figure size 432x288 with 1 Axes>"
            ]
          },
          "metadata": {
            "tags": []
          },
          "output_type": "display_data"
        },
        {
          "data": {
            "image/png": "[encoded data removed]",
            "text/plain": [
              "<Figure size 432x288 with 1 Axes>"
            ]
          },
          "metadata": {
            "tags": []
          },
          "output_type": "display_data"
        },
        {
          "data": {
            "image/png": "[encoded data removed]",
            "text/plain": [
              "<Figure size 432x288 with 1 Axes>"
            ]
          },
          "metadata": {
            "tags": []
          },
          "output_type": "display_data"
        }
      ],
      "source": [
        "#image_ds_testの確認\n",
        "plt.figure(figsize=(8,8))\n",
        "for n,image in enumerate(image_ds_test.take(4)):\n",
        " plt.subplot(2,2,n+1)\n",
        " plt.imshow(image)\n",
        " plt.grid(False)\n",
        " plt.xticks([])\n",
        " plt.yticks([])\n",
        " plt.show()"
      ]
    },
    {
      "cell_type": "code",
      "execution_count": null,
      "metadata": {
        "id": "6rWXjNKB_lGE"
      },
      "outputs": [],
      "source": [
        "BATCH_SIZE = 5\n",
        "ds_test = image_ds_test.batch(BATCH_SIZE)\n",
        "ds_test = ds_test.prefetch(buffer_size=AUTOTUNE)"
      ]
    },
    {
      "cell_type": "code",
      "execution_count": null,
      "metadata": {
        "id": "RGCtYL8s_uJM"
      },
      "outputs": [],
      "source": [
        "import tqdm"
      ]
    },
    {
      "cell_type": "code",
      "execution_count": null,
      "metadata": {
        "colab": {
          "base_uri": "https://localhost:8080/",
          "height": 66,
          "referenced_widgets": [
            "21caa32376724a22b8bc38efe4448aef",
            "d68e7c57d0c14f63badeb12ca64051fc",
            "55a74e5c07cc40978ac3645e6a1c2044",
            "de1c2631309a4a0ab26f79f4eae575bc",
            "6943b963b9784e7c9eef3e31cb0fc9b1",
            "fc742470a89f4b0aae76054fe59d0a59",
            "8f73a57f0d5049268e6c71553baea2ca",
            "577cf827c39c4d9fa02d8d53d2fb48a6"
          ]
        },
        "id": "h-Wx_OZh_s35",
        "outputId": "a62ac809-ce46-46d9-be61-4bffa4c1e339"
      },
      "outputs": [
        {
          "data": {
            "application/vnd.jupyter.widget-view+json": {
              "model_id": "21caa32376724a22b8bc38efe4448aef",
              "version_major": 2,
              "version_minor": 0
            },
            "text/plain": [
              "HBox(children=(FloatProgress(value=0.0, max=15.0), HTML(value='')))"
            ]
          },
          "metadata": {
            "tags": []
          },
          "output_type": "display_data"
        },
        {
          "name": "stdout",
          "output_type": "stream",
          "text": [
            "\n"
          ]
        }
      ],
      "source": [
        "steps = image_count2 // BATCH_SIZE\n",
        "for i, batch in zip(tqdm.notebook.trange(steps), ds_test.as_numpy_iterator()):\n",
        "    if i == 0:\n",
        "        predicted = vit_apply_repl(opt_repl.target, batch[np.newaxis, :])\n",
        "        predicted = flax.nn.softmax(predicted)\n",
        "        predict_prob = predicted[0]\n",
        "    else:\n",
        "        predicted = vit_apply_repl(opt_repl.target, batch[np.newaxis, :])\n",
        "        predicted = flax.nn.softmax(predicted)\n",
        "        predict_prob = np.append(predict_prob, predicted[0], axis=0)"
      ]
    },
    {
      "cell_type": "code",
      "execution_count": null,
      "metadata": {
        "id": "P-bgR9hf_vsZ"
      },
      "outputs": [],
      "source": [
        "submit_file = pd.DataFrame(predict_prob)\n",
        "submit_file.index = [path.replace(\"test/\", \"\") for path in test_image_paths]\n",
        "submit_file.to_csv(\"result_file.csv\", header=False)"
      ]
    },
    {
      "cell_type": "code",
      "execution_count": null,
      "metadata": {
        "id": "ChqSMrWxD01I"
      },
      "outputs": [],
      "source": [
        "submit_file.columns = label_names"
      ]
    },
    {
      "cell_type": "code",
      "execution_count": null,
      "metadata": {
        "colab": {
          "base_uri": "https://localhost:8080/",
          "height": 453
        },
        "id": "q0rPrTpLEH6g",
        "outputId": "37c6e404-a4dc-4285-cd1c-ba9299c31d6f"
      },
      "outputs": [
        {
          "data": {
            "text/html": [
              "<div>\n",
              "<style scoped>\n",
              "    .dataframe tbody tr th:only-of-type {\n",
              "        vertical-align: middle;\n",
              "    }\n",
              "\n",
              "    .dataframe tbody tr th {\n",
              "        vertical-align: top;\n",
              "    }\n",
              "\n",
              "    .dataframe thead th {\n",
              "        text-align: right;\n",
              "    }\n",
              "</style>\n",
              "<table border=\"1\" class=\"dataframe\">\n",
              "  <thead>\n",
              "    <tr style=\"text-align: right;\">\n",
              "      <th></th>\n",
              "      <th>Auguste Renoir</th>\n",
              "      <th>Camille Corot</th>\n",
              "      <th>Edgar Degas</th>\n",
              "      <th>Edouard Manet</th>\n",
              "      <th>Gilbert Stuart</th>\n",
              "      <th>Gustave Courbet</th>\n",
              "      <th>John Frederick Kensett</th>\n",
              "      <th>Paul Cézanne</th>\n",
              "      <th>Rembrandt (Rembrandt van Rijn)</th>\n",
              "      <th>William P. Chappel</th>\n",
              "    </tr>\n",
              "  </thead>\n",
              "  <tbody>\n",
              "    <tr>\n",
              "      <th>/root/.keras/datasets/176.jpg</th>\n",
              "      <td>0.129738</td>\n",
              "      <td>0.187555</td>\n",
              "      <td>0.060334</td>\n",
              "      <td>0.081669</td>\n",
              "      <td>0.145707</td>\n",
              "      <td>0.074865</td>\n",
              "      <td>0.052019</td>\n",
              "      <td>0.110663</td>\n",
              "      <td>0.071338</td>\n",
              "      <td>0.086113</td>\n",
              "    </tr>\n",
              "    <tr>\n",
              "      <th>/root/.keras/datasets/177.jpg</th>\n",
              "      <td>0.084926</td>\n",
              "      <td>0.164872</td>\n",
              "      <td>0.071462</td>\n",
              "      <td>0.097706</td>\n",
              "      <td>0.139854</td>\n",
              "      <td>0.088203</td>\n",
              "      <td>0.065544</td>\n",
              "      <td>0.111366</td>\n",
              "      <td>0.090655</td>\n",
              "      <td>0.085412</td>\n",
              "    </tr>\n",
              "    <tr>\n",
              "      <th>/root/.keras/datasets/178.jpg</th>\n",
              "      <td>0.108779</td>\n",
              "      <td>0.178564</td>\n",
              "      <td>0.079583</td>\n",
              "      <td>0.091985</td>\n",
              "      <td>0.087363</td>\n",
              "      <td>0.119331</td>\n",
              "      <td>0.064951</td>\n",
              "      <td>0.099698</td>\n",
              "      <td>0.077600</td>\n",
              "      <td>0.092145</td>\n",
              "    </tr>\n",
              "    <tr>\n",
              "      <th>/root/.keras/datasets/179.jpg</th>\n",
              "      <td>0.169517</td>\n",
              "      <td>0.199704</td>\n",
              "      <td>0.054636</td>\n",
              "      <td>0.069369</td>\n",
              "      <td>0.060472</td>\n",
              "      <td>0.082740</td>\n",
              "      <td>0.055896</td>\n",
              "      <td>0.151988</td>\n",
              "      <td>0.040243</td>\n",
              "      <td>0.115435</td>\n",
              "    </tr>\n",
              "    <tr>\n",
              "      <th>/root/.keras/datasets/180.jpg</th>\n",
              "      <td>0.171334</td>\n",
              "      <td>0.135386</td>\n",
              "      <td>0.088724</td>\n",
              "      <td>0.096476</td>\n",
              "      <td>0.076949</td>\n",
              "      <td>0.133670</td>\n",
              "      <td>0.059373</td>\n",
              "      <td>0.107145</td>\n",
              "      <td>0.058569</td>\n",
              "      <td>0.072375</td>\n",
              "    </tr>\n",
              "    <tr>\n",
              "      <th>...</th>\n",
              "      <td>...</td>\n",
              "      <td>...</td>\n",
              "      <td>...</td>\n",
              "      <td>...</td>\n",
              "      <td>...</td>\n",
              "      <td>...</td>\n",
              "      <td>...</td>\n",
              "      <td>...</td>\n",
              "      <td>...</td>\n",
              "      <td>...</td>\n",
              "    </tr>\n",
              "    <tr>\n",
              "      <th>/root/.keras/datasets/246.jpg</th>\n",
              "      <td>0.213440</td>\n",
              "      <td>0.123280</td>\n",
              "      <td>0.067972</td>\n",
              "      <td>0.081751</td>\n",
              "      <td>0.057790</td>\n",
              "      <td>0.080221</td>\n",
              "      <td>0.051099</td>\n",
              "      <td>0.193336</td>\n",
              "      <td>0.043425</td>\n",
              "      <td>0.087686</td>\n",
              "    </tr>\n",
              "    <tr>\n",
              "      <th>/root/.keras/datasets/247.jpg</th>\n",
              "      <td>0.120705</td>\n",
              "      <td>0.136235</td>\n",
              "      <td>0.084795</td>\n",
              "      <td>0.094152</td>\n",
              "      <td>0.102596</td>\n",
              "      <td>0.099482</td>\n",
              "      <td>0.072914</td>\n",
              "      <td>0.111098</td>\n",
              "      <td>0.089162</td>\n",
              "      <td>0.088862</td>\n",
              "    </tr>\n",
              "    <tr>\n",
              "      <th>/root/.keras/datasets/248.jpg</th>\n",
              "      <td>0.100937</td>\n",
              "      <td>0.153721</td>\n",
              "      <td>0.078109</td>\n",
              "      <td>0.083946</td>\n",
              "      <td>0.139598</td>\n",
              "      <td>0.112231</td>\n",
              "      <td>0.060463</td>\n",
              "      <td>0.107022</td>\n",
              "      <td>0.099068</td>\n",
              "      <td>0.064905</td>\n",
              "    </tr>\n",
              "    <tr>\n",
              "      <th>/root/.keras/datasets/249.jpg</th>\n",
              "      <td>0.101356</td>\n",
              "      <td>0.156213</td>\n",
              "      <td>0.067777</td>\n",
              "      <td>0.081229</td>\n",
              "      <td>0.193594</td>\n",
              "      <td>0.085492</td>\n",
              "      <td>0.048325</td>\n",
              "      <td>0.117149</td>\n",
              "      <td>0.083596</td>\n",
              "      <td>0.065268</td>\n",
              "    </tr>\n",
              "    <tr>\n",
              "      <th>/root/.keras/datasets/250.jpg</th>\n",
              "      <td>0.078923</td>\n",
              "      <td>0.125194</td>\n",
              "      <td>0.055678</td>\n",
              "      <td>0.072647</td>\n",
              "      <td>0.059585</td>\n",
              "      <td>0.073595</td>\n",
              "      <td>0.066270</td>\n",
              "      <td>0.084731</td>\n",
              "      <td>0.055171</td>\n",
              "      <td>0.328207</td>\n",
              "    </tr>\n",
              "  </tbody>\n",
              "</table>\n",
              "<p>75 rows × 10 columns</p>\n",
              "</div>"
            ],
            "text/plain": [
              "                               Auguste Renoir  ...  William P. Chappel\n",
              "/root/.keras/datasets/176.jpg        0.129738  ...            0.086113\n",
              "/root/.keras/datasets/177.jpg        0.084926  ...            0.085412\n",
              "/root/.keras/datasets/178.jpg        0.108779  ...            0.092145\n",
              "/root/.keras/datasets/179.jpg        0.169517  ...            0.115435\n",
              "/root/.keras/datasets/180.jpg        0.171334  ...            0.072375\n",
              "...                                       ...  ...                 ...\n",
              "/root/.keras/datasets/246.jpg        0.213440  ...            0.087686\n",
              "/root/.keras/datasets/247.jpg        0.120705  ...            0.088862\n",
              "/root/.keras/datasets/248.jpg        0.100937  ...            0.064905\n",
              "/root/.keras/datasets/249.jpg        0.101356  ...            0.065268\n",
              "/root/.keras/datasets/250.jpg        0.078923  ...            0.328207\n",
              "\n",
              "[75 rows x 10 columns]"
            ]
          },
          "execution_count": 71,
          "metadata": {
            "tags": []
          },
          "output_type": "execute_result"
        }
      ],
      "source": [
        "submit_file"
      ]
    },
    {
      "cell_type": "code",
      "execution_count": null,
      "metadata": {
        "colab": {
          "base_uri": "https://localhost:8080/",
          "height": 419
        },
        "id": "HmvSUbzOEnxX",
        "outputId": "c0734e66-2613-4b2f-91c8-a3664b9f4a7c"
      },
      "outputs": [
        {
          "data": {
            "text/html": [
              "<div>\n",
              "<style scoped>\n",
              "    .dataframe tbody tr th:only-of-type {\n",
              "        vertical-align: middle;\n",
              "    }\n",
              "\n",
              "    .dataframe tbody tr th {\n",
              "        vertical-align: top;\n",
              "    }\n",
              "\n",
              "    .dataframe thead th {\n",
              "        text-align: right;\n",
              "    }\n",
              "</style>\n",
              "<table border=\"1\" class=\"dataframe\">\n",
              "  <thead>\n",
              "    <tr style=\"text-align: right;\">\n",
              "      <th></th>\n",
              "      <th>0</th>\n",
              "    </tr>\n",
              "  </thead>\n",
              "  <tbody>\n",
              "    <tr>\n",
              "      <th>/root/.keras/datasets/176.jpg</th>\n",
              "      <td>Camille Corot</td>\n",
              "    </tr>\n",
              "    <tr>\n",
              "      <th>/root/.keras/datasets/177.jpg</th>\n",
              "      <td>Camille Corot</td>\n",
              "    </tr>\n",
              "    <tr>\n",
              "      <th>/root/.keras/datasets/178.jpg</th>\n",
              "      <td>Camille Corot</td>\n",
              "    </tr>\n",
              "    <tr>\n",
              "      <th>/root/.keras/datasets/179.jpg</th>\n",
              "      <td>Camille Corot</td>\n",
              "    </tr>\n",
              "    <tr>\n",
              "      <th>/root/.keras/datasets/180.jpg</th>\n",
              "      <td>Auguste Renoir</td>\n",
              "    </tr>\n",
              "    <tr>\n",
              "      <th>...</th>\n",
              "      <td>...</td>\n",
              "    </tr>\n",
              "    <tr>\n",
              "      <th>/root/.keras/datasets/246.jpg</th>\n",
              "      <td>Auguste Renoir</td>\n",
              "    </tr>\n",
              "    <tr>\n",
              "      <th>/root/.keras/datasets/247.jpg</th>\n",
              "      <td>Camille Corot</td>\n",
              "    </tr>\n",
              "    <tr>\n",
              "      <th>/root/.keras/datasets/248.jpg</th>\n",
              "      <td>Camille Corot</td>\n",
              "    </tr>\n",
              "    <tr>\n",
              "      <th>/root/.keras/datasets/249.jpg</th>\n",
              "      <td>Gilbert Stuart</td>\n",
              "    </tr>\n",
              "    <tr>\n",
              "      <th>/root/.keras/datasets/250.jpg</th>\n",
              "      <td>William P. Chappel</td>\n",
              "    </tr>\n",
              "  </tbody>\n",
              "</table>\n",
              "<p>75 rows × 1 columns</p>\n",
              "</div>"
            ],
            "text/plain": [
              "                                                0\n",
              "/root/.keras/datasets/176.jpg       Camille Corot\n",
              "/root/.keras/datasets/177.jpg       Camille Corot\n",
              "/root/.keras/datasets/178.jpg       Camille Corot\n",
              "/root/.keras/datasets/179.jpg       Camille Corot\n",
              "/root/.keras/datasets/180.jpg      Auguste Renoir\n",
              "...                                           ...\n",
              "/root/.keras/datasets/246.jpg      Auguste Renoir\n",
              "/root/.keras/datasets/247.jpg       Camille Corot\n",
              "/root/.keras/datasets/248.jpg       Camille Corot\n",
              "/root/.keras/datasets/249.jpg      Gilbert Stuart\n",
              "/root/.keras/datasets/250.jpg  William P. Chappel\n",
              "\n",
              "[75 rows x 1 columns]"
            ]
          },
          "execution_count": 76,
          "metadata": {
            "tags": []
          },
          "output_type": "execute_result"
        }
      ],
      "source": [
        "results = pd.DataFrame(submit_file.idxmax(axis=1))\n",
        "results"
      ]
    },
    {
      "cell_type": "code",
      "execution_count": null,
      "metadata": {
        "id": "zsgzGiT6DavX"
      },
      "outputs": [],
      "source": [
        "results = pd.DataFrame(results)\n",
        "results.index = [path.replace(\"test/\", \"\") for path in test_image_paths]\n",
        "results.to_csv(\"results.csv\", header=False)"
      ]
    }
  ],
  "metadata": {
    "accelerator": "GPU",
    "colab": {
      "collapsed_sections": [],
      "name": "ViT_artist.ipynb",
      "provenance": []
    },
    "kernelspec": {
      "display_name": "Python 3",
      "name": "python3"
    },
    "language_info": {
      "name": "python"
    },
    "widgets": {
      "application/vnd.jupyter.widget-state+json": {
        "02ab15504d814707afc98130ed773995": {
          "model_module": "@jupyter-widgets/base",
          "model_name": "LayoutModel",
          "state": {
            "_model_module": "@jupyter-widgets/base",
            "_model_module_version": "1.2.0",
            "_model_name": "LayoutModel",
            "_view_count": null,
            "_view_module": "@jupyter-widgets/base",
            "_view_module_version": "1.2.0",
            "_view_name": "LayoutView",
            "align_content": null,
            "align_items": null,
            "align_self": null,
            "border": null,
            "bottom": null,
            "display": null,
            "flex": null,
            "flex_flow": null,
            "grid_area": null,
            "grid_auto_columns": null,
            "grid_auto_flow": null,
            "grid_auto_rows": null,
            "grid_column": null,
            "grid_gap": null,
            "grid_row": null,
            "grid_template_areas": null,
            "grid_template_columns": null,
            "grid_template_rows": null,
            "height": null,
            "justify_content": null,
            "justify_items": null,
            "left": null,
            "margin": null,
            "max_height": null,
            "max_width": null,
            "min_height": null,
            "min_width": null,
            "object_fit": null,
            "object_position": null,
            "order": null,
            "overflow": null,
            "overflow_x": null,
            "overflow_y": null,
            "padding": null,
            "right": null,
            "top": null,
            "visibility": null,
            "width": null
          },
          "model_module_version": "1.2.0"
        },
        "061cd6b42778480e9e3779825e091f29": {
          "model_module": "@jupyter-widgets/base",
          "model_name": "LayoutModel",
          "state": {
            "_model_module": "@jupyter-widgets/base",
            "_model_module_version": "1.2.0",
            "_model_name": "LayoutModel",
            "_view_count": null,
            "_view_module": "@jupyter-widgets/base",
            "_view_module_version": "1.2.0",
            "_view_name": "LayoutView",
            "align_content": null,
            "align_items": null,
            "align_self": null,
            "border": null,
            "bottom": null,
            "display": null,
            "flex": null,
            "flex_flow": null,
            "grid_area": null,
            "grid_auto_columns": null,
            "grid_auto_flow": null,
            "grid_auto_rows": null,
            "grid_column": null,
            "grid_gap": null,
            "grid_row": null,
            "grid_template_areas": null,
            "grid_template_columns": null,
            "grid_template_rows": null,
            "height": null,
            "justify_content": null,
            "justify_items": null,
            "left": null,
            "margin": null,
            "max_height": null,
            "max_width": null,
            "min_height": null,
            "min_width": null,
            "object_fit": null,
            "object_position": null,
            "order": null,
            "overflow": null,
            "overflow_x": null,
            "overflow_y": null,
            "padding": null,
            "right": null,
            "top": null,
            "visibility": null,
            "width": null
          },
          "model_module_version": "1.2.0"
        },
        "21caa32376724a22b8bc38efe4448aef": {
          "model_module": "@jupyter-widgets/controls",
          "model_name": "HBoxModel",
          "state": {
            "_dom_classes": [],
            "_model_module": "@jupyter-widgets/controls",
            "_model_module_version": "1.5.0",
            "_model_name": "HBoxModel",
            "_view_count": null,
            "_view_module": "@jupyter-widgets/controls",
            "_view_module_version": "1.5.0",
            "_view_name": "HBoxView",
            "box_style": "",
            "children": [
              "IPY_MODEL_d68e7c57d0c14f63badeb12ca64051fc",
              "IPY_MODEL_55a74e5c07cc40978ac3645e6a1c2044"
            ],
            "layout": "IPY_MODEL_de1c2631309a4a0ab26f79f4eae575bc"
          },
          "model_module_version": "1.5.0"
        },
        "2b161bad6d304128b1d4d07b5704658b": {
          "model_module": "@jupyter-widgets/base",
          "model_name": "LayoutModel",
          "state": {
            "_model_module": "@jupyter-widgets/base",
            "_model_module_version": "1.2.0",
            "_model_name": "LayoutModel",
            "_view_count": null,
            "_view_module": "@jupyter-widgets/base",
            "_view_module_version": "1.2.0",
            "_view_name": "LayoutView",
            "align_content": null,
            "align_items": null,
            "align_self": null,
            "border": null,
            "bottom": null,
            "display": null,
            "flex": null,
            "flex_flow": null,
            "grid_area": null,
            "grid_auto_columns": null,
            "grid_auto_flow": null,
            "grid_auto_rows": null,
            "grid_column": null,
            "grid_gap": null,
            "grid_row": null,
            "grid_template_areas": null,
            "grid_template_columns": null,
            "grid_template_rows": null,
            "height": null,
            "justify_content": null,
            "justify_items": null,
            "left": null,
            "margin": null,
            "max_height": null,
            "max_width": null,
            "min_height": null,
            "min_width": null,
            "object_fit": null,
            "object_position": null,
            "order": null,
            "overflow": null,
            "overflow_x": null,
            "overflow_y": null,
            "padding": null,
            "right": null,
            "top": null,
            "visibility": null,
            "width": null
          },
          "model_module_version": "1.2.0"
        },
        "31b02948820d43b5bb1890724741bf70": {
          "model_module": "@jupyter-widgets/controls",
          "model_name": "FloatProgressModel",
          "state": {
            "_dom_classes": [],
            "_model_module": "@jupyter-widgets/controls",
            "_model_module_version": "1.5.0",
            "_model_name": "FloatProgressModel",
            "_view_count": null,
            "_view_module": "@jupyter-widgets/controls",
            "_view_module_version": "1.5.0",
            "_view_name": "ProgressView",
            "bar_style": "success",
            "description": "100%",
            "description_tooltip": null,
            "layout": "IPY_MODEL_02ab15504d814707afc98130ed773995",
            "max": 75,
            "min": 0,
            "orientation": "horizontal",
            "style": "IPY_MODEL_b146a255e311467889dd5f4c4b899005",
            "value": 75
          },
          "model_module_version": "1.5.0"
        },
        "49548c7036f0422d85284c1ada0a1072": {
          "model_module": "@jupyter-widgets/controls",
          "model_name": "HBoxModel",
          "state": {
            "_dom_classes": [],
            "_model_module": "@jupyter-widgets/controls",
            "_model_module_version": "1.5.0",
            "_model_name": "HBoxModel",
            "_view_count": null,
            "_view_module": "@jupyter-widgets/controls",
            "_view_module_version": "1.5.0",
            "_view_name": "HBoxView",
            "box_style": "",
            "children": [
              "IPY_MODEL_31b02948820d43b5bb1890724741bf70",
              "IPY_MODEL_cdf370dd106b45aca8d1ee09a29725e1"
            ],
            "layout": "IPY_MODEL_74a9b79b29804052b80c334e13b1b873"
          },
          "model_module_version": "1.5.0"
        },
        "4e9dc7086b5345628fe969d26dc50ab2": {
          "model_module": "@jupyter-widgets/controls",
          "model_name": "ProgressStyleModel",
          "state": {
            "_model_module": "@jupyter-widgets/controls",
            "_model_module_version": "1.5.0",
            "_model_name": "ProgressStyleModel",
            "_view_count": null,
            "_view_module": "@jupyter-widgets/base",
            "_view_module_version": "1.2.0",
            "_view_name": "StyleView",
            "bar_color": null,
            "description_width": "initial"
          },
          "model_module_version": "1.5.0"
        },
        "5040375e41c8410cb3d7a059b3396ff4": {
          "model_module": "@jupyter-widgets/base",
          "model_name": "LayoutModel",
          "state": {
            "_model_module": "@jupyter-widgets/base",
            "_model_module_version": "1.2.0",
            "_model_name": "LayoutModel",
            "_view_count": null,
            "_view_module": "@jupyter-widgets/base",
            "_view_module_version": "1.2.0",
            "_view_name": "LayoutView",
            "align_content": null,
            "align_items": null,
            "align_self": null,
            "border": null,
            "bottom": null,
            "display": null,
            "flex": null,
            "flex_flow": null,
            "grid_area": null,
            "grid_auto_columns": null,
            "grid_auto_flow": null,
            "grid_auto_rows": null,
            "grid_column": null,
            "grid_gap": null,
            "grid_row": null,
            "grid_template_areas": null,
            "grid_template_columns": null,
            "grid_template_rows": null,
            "height": null,
            "justify_content": null,
            "justify_items": null,
            "left": null,
            "margin": null,
            "max_height": null,
            "max_width": null,
            "min_height": null,
            "min_width": null,
            "object_fit": null,
            "object_position": null,
            "order": null,
            "overflow": null,
            "overflow_x": null,
            "overflow_y": null,
            "padding": null,
            "right": null,
            "top": null,
            "visibility": null,
            "width": null
          },
          "model_module_version": "1.2.0"
        },
        "5439d0432bc84e18941d95ce77431c50": {
          "model_module": "@jupyter-widgets/controls",
          "model_name": "HTMLModel",
          "state": {
            "_dom_classes": [],
            "_model_module": "@jupyter-widgets/controls",
            "_model_module_version": "1.5.0",
            "_model_name": "HTMLModel",
            "_view_count": null,
            "_view_module": "@jupyter-widgets/controls",
            "_view_module_version": "1.5.0",
            "_view_name": "HTMLView",
            "description": "",
            "description_tooltip": null,
            "layout": "IPY_MODEL_2b161bad6d304128b1d4d07b5704658b",
            "placeholder": "​",
            "style": "IPY_MODEL_817d1297bed945babb875dd998ba7837",
            "value": " 35/35 [01:32&lt;00:00,  2.65s/it]"
          },
          "model_module_version": "1.5.0"
        },
        "55a74e5c07cc40978ac3645e6a1c2044": {
          "model_module": "@jupyter-widgets/controls",
          "model_name": "HTMLModel",
          "state": {
            "_dom_classes": [],
            "_model_module": "@jupyter-widgets/controls",
            "_model_module_version": "1.5.0",
            "_model_name": "HTMLModel",
            "_view_count": null,
            "_view_module": "@jupyter-widgets/controls",
            "_view_module_version": "1.5.0",
            "_view_name": "HTMLView",
            "description": "",
            "description_tooltip": null,
            "layout": "IPY_MODEL_8f73a57f0d5049268e6c71553baea2ca",
            "placeholder": "​",
            "style": "IPY_MODEL_577cf827c39c4d9fa02d8d53d2fb48a6",
            "value": " 15/15 [00:04&lt;00:00,  3.30it/s]"
          },
          "model_module_version": "1.5.0"
        },
        "577cf827c39c4d9fa02d8d53d2fb48a6": {
          "model_module": "@jupyter-widgets/controls",
          "model_name": "DescriptionStyleModel",
          "state": {
            "_model_module": "@jupyter-widgets/controls",
            "_model_module_version": "1.5.0",
            "_model_name": "DescriptionStyleModel",
            "_view_count": null,
            "_view_module": "@jupyter-widgets/base",
            "_view_module_version": "1.2.0",
            "_view_name": "StyleView",
            "description_width": ""
          },
          "model_module_version": "1.5.0"
        },
        "5a6b1a589b964cb883eaaf954b04b4bf": {
          "model_module": "@jupyter-widgets/controls",
          "model_name": "HTMLModel",
          "state": {
            "_dom_classes": [],
            "_model_module": "@jupyter-widgets/controls",
            "_model_module_version": "1.5.0",
            "_model_name": "HTMLModel",
            "_view_count": null,
            "_view_module": "@jupyter-widgets/controls",
            "_view_module_version": "1.5.0",
            "_view_name": "HTMLView",
            "description": "",
            "description_tooltip": null,
            "layout": "IPY_MODEL_72ede2d85640444f9cf17847b12d8b38",
            "placeholder": "​",
            "style": "IPY_MODEL_9fe4740609b746f5a2663df2b5087797",
            "value": " 175/175 [00:19&lt;00:00,  9.06it/s]"
          },
          "model_module_version": "1.5.0"
        },
        "65ec07a909734c7387c579fa11f02a7d": {
          "model_module": "@jupyter-widgets/base",
          "model_name": "LayoutModel",
          "state": {
            "_model_module": "@jupyter-widgets/base",
            "_model_module_version": "1.2.0",
            "_model_name": "LayoutModel",
            "_view_count": null,
            "_view_module": "@jupyter-widgets/base",
            "_view_module_version": "1.2.0",
            "_view_name": "LayoutView",
            "align_content": null,
            "align_items": null,
            "align_self": null,
            "border": null,
            "bottom": null,
            "display": null,
            "flex": null,
            "flex_flow": null,
            "grid_area": null,
            "grid_auto_columns": null,
            "grid_auto_flow": null,
            "grid_auto_rows": null,
            "grid_column": null,
            "grid_gap": null,
            "grid_row": null,
            "grid_template_areas": null,
            "grid_template_columns": null,
            "grid_template_rows": null,
            "height": null,
            "justify_content": null,
            "justify_items": null,
            "left": null,
            "margin": null,
            "max_height": null,
            "max_width": null,
            "min_height": null,
            "min_width": null,
            "object_fit": null,
            "object_position": null,
            "order": null,
            "overflow": null,
            "overflow_x": null,
            "overflow_y": null,
            "padding": null,
            "right": null,
            "top": null,
            "visibility": null,
            "width": null
          },
          "model_module_version": "1.2.0"
        },
        "6943b963b9784e7c9eef3e31cb0fc9b1": {
          "model_module": "@jupyter-widgets/base",
          "model_name": "LayoutModel",
          "state": {
            "_model_module": "@jupyter-widgets/base",
            "_model_module_version": "1.2.0",
            "_model_name": "LayoutModel",
            "_view_count": null,
            "_view_module": "@jupyter-widgets/base",
            "_view_module_version": "1.2.0",
            "_view_name": "LayoutView",
            "align_content": null,
            "align_items": null,
            "align_self": null,
            "border": null,
            "bottom": null,
            "display": null,
            "flex": null,
            "flex_flow": null,
            "grid_area": null,
            "grid_auto_columns": null,
            "grid_auto_flow": null,
            "grid_auto_rows": null,
            "grid_column": null,
            "grid_gap": null,
            "grid_row": null,
            "grid_template_areas": null,
            "grid_template_columns": null,
            "grid_template_rows": null,
            "height": null,
            "justify_content": null,
            "justify_items": null,
            "left": null,
            "margin": null,
            "max_height": null,
            "max_width": null,
            "min_height": null,
            "min_width": null,
            "object_fit": null,
            "object_position": null,
            "order": null,
            "overflow": null,
            "overflow_x": null,
            "overflow_y": null,
            "padding": null,
            "right": null,
            "top": null,
            "visibility": null,
            "width": null
          },
          "model_module_version": "1.2.0"
        },
        "72ede2d85640444f9cf17847b12d8b38": {
          "model_module": "@jupyter-widgets/base",
          "model_name": "LayoutModel",
          "state": {
            "_model_module": "@jupyter-widgets/base",
            "_model_module_version": "1.2.0",
            "_model_name": "LayoutModel",
            "_view_count": null,
            "_view_module": "@jupyter-widgets/base",
            "_view_module_version": "1.2.0",
            "_view_name": "LayoutView",
            "align_content": null,
            "align_items": null,
            "align_self": null,
            "border": null,
            "bottom": null,
            "display": null,
            "flex": null,
            "flex_flow": null,
            "grid_area": null,
            "grid_auto_columns": null,
            "grid_auto_flow": null,
            "grid_auto_rows": null,
            "grid_column": null,
            "grid_gap": null,
            "grid_row": null,
            "grid_template_areas": null,
            "grid_template_columns": null,
            "grid_template_rows": null,
            "height": null,
            "justify_content": null,
            "justify_items": null,
            "left": null,
            "margin": null,
            "max_height": null,
            "max_width": null,
            "min_height": null,
            "min_width": null,
            "object_fit": null,
            "object_position": null,
            "order": null,
            "overflow": null,
            "overflow_x": null,
            "overflow_y": null,
            "padding": null,
            "right": null,
            "top": null,
            "visibility": null,
            "width": null
          },
          "model_module_version": "1.2.0"
        },
        "74a9b79b29804052b80c334e13b1b873": {
          "model_module": "@jupyter-widgets/base",
          "model_name": "LayoutModel",
          "state": {
            "_model_module": "@jupyter-widgets/base",
            "_model_module_version": "1.2.0",
            "_model_name": "LayoutModel",
            "_view_count": null,
            "_view_module": "@jupyter-widgets/base",
            "_view_module_version": "1.2.0",
            "_view_name": "LayoutView",
            "align_content": null,
            "align_items": null,
            "align_self": null,
            "border": null,
            "bottom": null,
            "display": null,
            "flex": null,
            "flex_flow": null,
            "grid_area": null,
            "grid_auto_columns": null,
            "grid_auto_flow": null,
            "grid_auto_rows": null,
            "grid_column": null,
            "grid_gap": null,
            "grid_row": null,
            "grid_template_areas": null,
            "grid_template_columns": null,
            "grid_template_rows": null,
            "height": null,
            "justify_content": null,
            "justify_items": null,
            "left": null,
            "margin": null,
            "max_height": null,
            "max_width": null,
            "min_height": null,
            "min_width": null,
            "object_fit": null,
            "object_position": null,
            "order": null,
            "overflow": null,
            "overflow_x": null,
            "overflow_y": null,
            "padding": null,
            "right": null,
            "top": null,
            "visibility": null,
            "width": null
          },
          "model_module_version": "1.2.0"
        },
        "7c5211c5c25d48a99d156c933db23a85": {
          "model_module": "@jupyter-widgets/base",
          "model_name": "LayoutModel",
          "state": {
            "_model_module": "@jupyter-widgets/base",
            "_model_module_version": "1.2.0",
            "_model_name": "LayoutModel",
            "_view_count": null,
            "_view_module": "@jupyter-widgets/base",
            "_view_module_version": "1.2.0",
            "_view_name": "LayoutView",
            "align_content": null,
            "align_items": null,
            "align_self": null,
            "border": null,
            "bottom": null,
            "display": null,
            "flex": null,
            "flex_flow": null,
            "grid_area": null,
            "grid_auto_columns": null,
            "grid_auto_flow": null,
            "grid_auto_rows": null,
            "grid_column": null,
            "grid_gap": null,
            "grid_row": null,
            "grid_template_areas": null,
            "grid_template_columns": null,
            "grid_template_rows": null,
            "height": null,
            "justify_content": null,
            "justify_items": null,
            "left": null,
            "margin": null,
            "max_height": null,
            "max_width": null,
            "min_height": null,
            "min_width": null,
            "object_fit": null,
            "object_position": null,
            "order": null,
            "overflow": null,
            "overflow_x": null,
            "overflow_y": null,
            "padding": null,
            "right": null,
            "top": null,
            "visibility": null,
            "width": null
          },
          "model_module_version": "1.2.0"
        },
        "817d1297bed945babb875dd998ba7837": {
          "model_module": "@jupyter-widgets/controls",
          "model_name": "DescriptionStyleModel",
          "state": {
            "_model_module": "@jupyter-widgets/controls",
            "_model_module_version": "1.5.0",
            "_model_name": "DescriptionStyleModel",
            "_view_count": null,
            "_view_module": "@jupyter-widgets/base",
            "_view_module_version": "1.2.0",
            "_view_name": "StyleView",
            "description_width": ""
          },
          "model_module_version": "1.5.0"
        },
        "8f73a57f0d5049268e6c71553baea2ca": {
          "model_module": "@jupyter-widgets/base",
          "model_name": "LayoutModel",
          "state": {
            "_model_module": "@jupyter-widgets/base",
            "_model_module_version": "1.2.0",
            "_model_name": "LayoutModel",
            "_view_count": null,
            "_view_module": "@jupyter-widgets/base",
            "_view_module_version": "1.2.0",
            "_view_name": "LayoutView",
            "align_content": null,
            "align_items": null,
            "align_self": null,
            "border": null,
            "bottom": null,
            "display": null,
            "flex": null,
            "flex_flow": null,
            "grid_area": null,
            "grid_auto_columns": null,
            "grid_auto_flow": null,
            "grid_auto_rows": null,
            "grid_column": null,
            "grid_gap": null,
            "grid_row": null,
            "grid_template_areas": null,
            "grid_template_columns": null,
            "grid_template_rows": null,
            "height": null,
            "justify_content": null,
            "justify_items": null,
            "left": null,
            "margin": null,
            "max_height": null,
            "max_width": null,
            "min_height": null,
            "min_width": null,
            "object_fit": null,
            "object_position": null,
            "order": null,
            "overflow": null,
            "overflow_x": null,
            "overflow_y": null,
            "padding": null,
            "right": null,
            "top": null,
            "visibility": null,
            "width": null
          },
          "model_module_version": "1.2.0"
        },
        "9fe4740609b746f5a2663df2b5087797": {
          "model_module": "@jupyter-widgets/controls",
          "model_name": "DescriptionStyleModel",
          "state": {
            "_model_module": "@jupyter-widgets/controls",
            "_model_module_version": "1.5.0",
            "_model_name": "DescriptionStyleModel",
            "_view_count": null,
            "_view_module": "@jupyter-widgets/base",
            "_view_module_version": "1.2.0",
            "_view_name": "StyleView",
            "description_width": ""
          },
          "model_module_version": "1.5.0"
        },
        "b146a255e311467889dd5f4c4b899005": {
          "model_module": "@jupyter-widgets/controls",
          "model_name": "ProgressStyleModel",
          "state": {
            "_model_module": "@jupyter-widgets/controls",
            "_model_module_version": "1.5.0",
            "_model_name": "ProgressStyleModel",
            "_view_count": null,
            "_view_module": "@jupyter-widgets/base",
            "_view_module_version": "1.2.0",
            "_view_name": "StyleView",
            "bar_color": null,
            "description_width": "initial"
          },
          "model_module_version": "1.5.0"
        },
        "b700fb6e1ccf48fdb4b67d5b0c4d6719": {
          "model_module": "@jupyter-widgets/controls",
          "model_name": "HBoxModel",
          "state": {
            "_dom_classes": [],
            "_model_module": "@jupyter-widgets/controls",
            "_model_module_version": "1.5.0",
            "_model_name": "HBoxModel",
            "_view_count": null,
            "_view_module": "@jupyter-widgets/controls",
            "_view_module_version": "1.5.0",
            "_view_name": "HBoxView",
            "box_style": "",
            "children": [
              "IPY_MODEL_ca4de1e6030f4c0395697a8da390b4b4",
              "IPY_MODEL_5439d0432bc84e18941d95ce77431c50"
            ],
            "layout": "IPY_MODEL_65ec07a909734c7387c579fa11f02a7d"
          },
          "model_module_version": "1.5.0"
        },
        "bd10455f357d4c48b90ea71502537961": {
          "model_module": "@jupyter-widgets/controls",
          "model_name": "HBoxModel",
          "state": {
            "_dom_classes": [],
            "_model_module": "@jupyter-widgets/controls",
            "_model_module_version": "1.5.0",
            "_model_name": "HBoxModel",
            "_view_count": null,
            "_view_module": "@jupyter-widgets/controls",
            "_view_module_version": "1.5.0",
            "_view_name": "HBoxView",
            "box_style": "",
            "children": [
              "IPY_MODEL_fb58ce8ea8134308b5ff8b3b827ede5e",
              "IPY_MODEL_5a6b1a589b964cb883eaaf954b04b4bf"
            ],
            "layout": "IPY_MODEL_cd7042472683474fba072f780b3b2a93"
          },
          "model_module_version": "1.5.0"
        },
        "c33811098e0947a4b1d05a4e38209d51": {
          "model_module": "@jupyter-widgets/controls",
          "model_name": "DescriptionStyleModel",
          "state": {
            "_model_module": "@jupyter-widgets/controls",
            "_model_module_version": "1.5.0",
            "_model_name": "DescriptionStyleModel",
            "_view_count": null,
            "_view_module": "@jupyter-widgets/base",
            "_view_module_version": "1.2.0",
            "_view_name": "StyleView",
            "description_width": ""
          },
          "model_module_version": "1.5.0"
        },
        "ca4de1e6030f4c0395697a8da390b4b4": {
          "model_module": "@jupyter-widgets/controls",
          "model_name": "FloatProgressModel",
          "state": {
            "_dom_classes": [],
            "_model_module": "@jupyter-widgets/controls",
            "_model_module_version": "1.5.0",
            "_model_name": "FloatProgressModel",
            "_view_count": null,
            "_view_module": "@jupyter-widgets/controls",
            "_view_module_version": "1.5.0",
            "_view_name": "ProgressView",
            "bar_style": "success",
            "description": "100%",
            "description_tooltip": null,
            "layout": "IPY_MODEL_7c5211c5c25d48a99d156c933db23a85",
            "max": 35,
            "min": 0,
            "orientation": "horizontal",
            "style": "IPY_MODEL_f4323f1581604a2c9ab786faed0ccb23",
            "value": 35
          },
          "model_module_version": "1.5.0"
        },
        "cd7042472683474fba072f780b3b2a93": {
          "model_module": "@jupyter-widgets/base",
          "model_name": "LayoutModel",
          "state": {
            "_model_module": "@jupyter-widgets/base",
            "_model_module_version": "1.2.0",
            "_model_name": "LayoutModel",
            "_view_count": null,
            "_view_module": "@jupyter-widgets/base",
            "_view_module_version": "1.2.0",
            "_view_name": "LayoutView",
            "align_content": null,
            "align_items": null,
            "align_self": null,
            "border": null,
            "bottom": null,
            "display": null,
            "flex": null,
            "flex_flow": null,
            "grid_area": null,
            "grid_auto_columns": null,
            "grid_auto_flow": null,
            "grid_auto_rows": null,
            "grid_column": null,
            "grid_gap": null,
            "grid_row": null,
            "grid_template_areas": null,
            "grid_template_columns": null,
            "grid_template_rows": null,
            "height": null,
            "justify_content": null,
            "justify_items": null,
            "left": null,
            "margin": null,
            "max_height": null,
            "max_width": null,
            "min_height": null,
            "min_width": null,
            "object_fit": null,
            "object_position": null,
            "order": null,
            "overflow": null,
            "overflow_x": null,
            "overflow_y": null,
            "padding": null,
            "right": null,
            "top": null,
            "visibility": null,
            "width": null
          },
          "model_module_version": "1.2.0"
        },
        "cdf370dd106b45aca8d1ee09a29725e1": {
          "model_module": "@jupyter-widgets/controls",
          "model_name": "HTMLModel",
          "state": {
            "_dom_classes": [],
            "_model_module": "@jupyter-widgets/controls",
            "_model_module_version": "1.5.0",
            "_model_name": "HTMLModel",
            "_view_count": null,
            "_view_module": "@jupyter-widgets/controls",
            "_view_module_version": "1.5.0",
            "_view_name": "HTMLView",
            "description": "",
            "description_tooltip": null,
            "layout": "IPY_MODEL_061cd6b42778480e9e3779825e091f29",
            "placeholder": "​",
            "style": "IPY_MODEL_c33811098e0947a4b1d05a4e38209d51",
            "value": " 75/75 [00:16&lt;00:00,  4.46it/s]"
          },
          "model_module_version": "1.5.0"
        },
        "d68e7c57d0c14f63badeb12ca64051fc": {
          "model_module": "@jupyter-widgets/controls",
          "model_name": "FloatProgressModel",
          "state": {
            "_dom_classes": [],
            "_model_module": "@jupyter-widgets/controls",
            "_model_module_version": "1.5.0",
            "_model_name": "FloatProgressModel",
            "_view_count": null,
            "_view_module": "@jupyter-widgets/controls",
            "_view_module_version": "1.5.0",
            "_view_name": "ProgressView",
            "bar_style": "success",
            "description": "100%",
            "description_tooltip": null,
            "layout": "IPY_MODEL_6943b963b9784e7c9eef3e31cb0fc9b1",
            "max": 15,
            "min": 0,
            "orientation": "horizontal",
            "style": "IPY_MODEL_fc742470a89f4b0aae76054fe59d0a59",
            "value": 15
          },
          "model_module_version": "1.5.0"
        },
        "de1c2631309a4a0ab26f79f4eae575bc": {
          "model_module": "@jupyter-widgets/base",
          "model_name": "LayoutModel",
          "state": {
            "_model_module": "@jupyter-widgets/base",
            "_model_module_version": "1.2.0",
            "_model_name": "LayoutModel",
            "_view_count": null,
            "_view_module": "@jupyter-widgets/base",
            "_view_module_version": "1.2.0",
            "_view_name": "LayoutView",
            "align_content": null,
            "align_items": null,
            "align_self": null,
            "border": null,
            "bottom": null,
            "display": null,
            "flex": null,
            "flex_flow": null,
            "grid_area": null,
            "grid_auto_columns": null,
            "grid_auto_flow": null,
            "grid_auto_rows": null,
            "grid_column": null,
            "grid_gap": null,
            "grid_row": null,
            "grid_template_areas": null,
            "grid_template_columns": null,
            "grid_template_rows": null,
            "height": null,
            "justify_content": null,
            "justify_items": null,
            "left": null,
            "margin": null,
            "max_height": null,
            "max_width": null,
            "min_height": null,
            "min_width": null,
            "object_fit": null,
            "object_position": null,
            "order": null,
            "overflow": null,
            "overflow_x": null,
            "overflow_y": null,
            "padding": null,
            "right": null,
            "top": null,
            "visibility": null,
            "width": null
          },
          "model_module_version": "1.2.0"
        },
        "f4323f1581604a2c9ab786faed0ccb23": {
          "model_module": "@jupyter-widgets/controls",
          "model_name": "ProgressStyleModel",
          "state": {
            "_model_module": "@jupyter-widgets/controls",
            "_model_module_version": "1.5.0",
            "_model_name": "ProgressStyleModel",
            "_view_count": null,
            "_view_module": "@jupyter-widgets/base",
            "_view_module_version": "1.2.0",
            "_view_name": "StyleView",
            "bar_color": null,
            "description_width": "initial"
          },
          "model_module_version": "1.5.0"
        },
        "fb58ce8ea8134308b5ff8b3b827ede5e": {
          "model_module": "@jupyter-widgets/controls",
          "model_name": "FloatProgressModel",
          "state": {
            "_dom_classes": [],
            "_model_module": "@jupyter-widgets/controls",
            "_model_module_version": "1.5.0",
            "_model_name": "FloatProgressModel",
            "_view_count": null,
            "_view_module": "@jupyter-widgets/controls",
            "_view_module_version": "1.5.0",
            "_view_name": "ProgressView",
            "bar_style": "success",
            "description": "100%",
            "description_tooltip": null,
            "layout": "IPY_MODEL_5040375e41c8410cb3d7a059b3396ff4",
            "max": 175,
            "min": 0,
            "orientation": "horizontal",
            "style": "IPY_MODEL_4e9dc7086b5345628fe969d26dc50ab2",
            "value": 175
          },
          "model_module_version": "1.5.0"
        },
        "fc742470a89f4b0aae76054fe59d0a59": {
          "model_module": "@jupyter-widgets/controls",
          "model_name": "ProgressStyleModel",
          "state": {
            "_model_module": "@jupyter-widgets/controls",
            "_model_module_version": "1.5.0",
            "_model_name": "ProgressStyleModel",
            "_view_count": null,
            "_view_module": "@jupyter-widgets/base",
            "_view_module_version": "1.2.0",
            "_view_name": "StyleView",
            "bar_color": null,
            "description_width": "initial"
          },
          "model_module_version": "1.5.0"
        }
      }
    }
  },
  "nbformat": 4,
  "nbformat_minor": 0
}